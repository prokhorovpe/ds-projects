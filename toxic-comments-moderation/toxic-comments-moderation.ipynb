{
 "cells": [
  {
   "cell_type": "markdown",
   "metadata": {},
   "source": [
    "# Проект для «Викишоп»"
   ]
  },
  {
   "cell_type": "markdown",
   "metadata": {},
   "source": [
    "Интернет-магазин «Викишоп» запускает новый сервис, позволяющий пользователям редактировать и дополнять описания товаров, подобно вики-сообществам. Клиенты могут предлагать свои правки и комментировать изменения других пользователей. Для обеспечения качественного взаимодействия и предотвращения токсичных комментариев, магазину необходим инструмент, который будет автоматически находить и отправлять такие комментарии на модерацию.\n",
    "\n",
    "**Ожидаемый результат проекта**\n",
    "\n",
    "В рамках данного проекта необходимо обучить модель, способную классифицировать комментарии как позитивные или негативные. В распоряжении имеется набор данных с разметкой о токсичности правок.\n",
    "\n",
    "**Цель проекта** — построить модель с метрикой качества F1 не менее 0.75.\n",
    "\n",
    "**Инструкция по выполнению проекта**\n",
    "\n",
    "1. Загрузить и подготовить данные.\n",
    "2. Обучить разные модели. \n",
    "3. Сделать выводы.\n",
    "\n",
    "**Описание данных**\n",
    "\n",
    "Данные находятся в файле `toxic_comments.csv`. Столбец *text* в нём содержит текст комментария, а *toxic* — целевой признак."
   ]
  },
  {
   "cell_type": "code",
   "execution_count": 82,
   "metadata": {},
   "outputs": [
    {
     "name": "stderr",
     "output_type": "stream",
     "text": [
      "[nltk_data] Downloading package averaged_perceptron_tagger to\n",
      "[nltk_data]     /home/jovyan/nltk_data...\n",
      "[nltk_data]   Package averaged_perceptron_tagger is already up-to-\n",
      "[nltk_data]       date!\n"
     ]
    }
   ],
   "source": [
    "# импортируем библиотеки\n",
    "import pandas as pd\n",
    "import numpy as np\n",
    "import seaborn as sns\n",
    "import matplotlib.pyplot as plt\n",
    "import nltk\n",
    "import re\n",
    "import timeit\n",
    "\n",
    "# загружаем необходимые классы и функции для подготовки текста\n",
    "from sklearn.feature_extraction.text import TfidfVectorizer\n",
    "from nltk.corpus import stopwords as nltk_stopwords\n",
    "from nltk.corpus import wordnet\n",
    "from nltk.stem import WordNetLemmatizer\n",
    "nltk.download('averaged_perceptron_tagger')\n",
    "\n",
    "# загружаем классы для подготовки данных, для кросс-валидации и поиска лучшей модели\n",
    "from sklearn.model_selection import train_test_split, cross_val_score, RandomizedSearchCV\n",
    "\n",
    "# загружаем нужные модели\n",
    "from sklearn.linear_model import LogisticRegression\n",
    "from sklearn.tree import DecisionTreeClassifier\n",
    "from sklearn.neighbors import KNeighborsClassifier\n",
    "\n",
    "# импортируем функцию для расчета f1 и вызова отчетов по результатам классификации\n",
    "from sklearn.metrics import f1_score, classification_report, confusion_matrix\n",
    "\n",
    "# установим палетку для графиков\n",
    "sns.set_palette('Set2')\n",
    "\n",
    "# установим значения для констант\n",
    "TEST_SIZE = 0.25\n",
    "RANDOM_STATE = 12\n",
    "\n",
    "# отключим warnings\n",
    "import warnings\n",
    "warnings.filterwarnings('ignore')"
   ]
  },
  {
   "cell_type": "markdown",
   "metadata": {},
   "source": [
    "## Подготовка"
   ]
  },
  {
   "cell_type": "markdown",
   "metadata": {},
   "source": [
    "### Загрузка и описание данных"
   ]
  },
  {
   "cell_type": "code",
   "execution_count": 8,
   "metadata": {},
   "outputs": [],
   "source": [
    "# загружаем данные\n",
    "data = pd.read_csv('/datasets/toxic_comments.csv', index_col=0)"
   ]
  },
  {
   "cell_type": "code",
   "execution_count": 9,
   "metadata": {},
   "outputs": [
    {
     "data": {
      "text/html": [
       "<div>\n",
       "<style scoped>\n",
       "    .dataframe tbody tr th:only-of-type {\n",
       "        vertical-align: middle;\n",
       "    }\n",
       "\n",
       "    .dataframe tbody tr th {\n",
       "        vertical-align: top;\n",
       "    }\n",
       "\n",
       "    .dataframe thead th {\n",
       "        text-align: right;\n",
       "    }\n",
       "</style>\n",
       "<table border=\"1\" class=\"dataframe\">\n",
       "  <thead>\n",
       "    <tr style=\"text-align: right;\">\n",
       "      <th></th>\n",
       "      <th>text</th>\n",
       "      <th>toxic</th>\n",
       "    </tr>\n",
       "  </thead>\n",
       "  <tbody>\n",
       "    <tr>\n",
       "      <th>0</th>\n",
       "      <td>Explanation\\nWhy the edits made under my usern...</td>\n",
       "      <td>0</td>\n",
       "    </tr>\n",
       "    <tr>\n",
       "      <th>1</th>\n",
       "      <td>D'aww! He matches this background colour I'm s...</td>\n",
       "      <td>0</td>\n",
       "    </tr>\n",
       "    <tr>\n",
       "      <th>2</th>\n",
       "      <td>Hey man, I'm really not trying to edit war. It...</td>\n",
       "      <td>0</td>\n",
       "    </tr>\n",
       "    <tr>\n",
       "      <th>3</th>\n",
       "      <td>\"\\nMore\\nI can't make any real suggestions on ...</td>\n",
       "      <td>0</td>\n",
       "    </tr>\n",
       "    <tr>\n",
       "      <th>4</th>\n",
       "      <td>You, sir, are my hero. Any chance you remember...</td>\n",
       "      <td>0</td>\n",
       "    </tr>\n",
       "  </tbody>\n",
       "</table>\n",
       "</div>"
      ],
      "text/plain": [
       "                                                text  toxic\n",
       "0  Explanation\\nWhy the edits made under my usern...      0\n",
       "1  D'aww! He matches this background colour I'm s...      0\n",
       "2  Hey man, I'm really not trying to edit war. It...      0\n",
       "3  \"\\nMore\\nI can't make any real suggestions on ...      0\n",
       "4  You, sir, are my hero. Any chance you remember...      0"
      ]
     },
     "execution_count": 9,
     "metadata": {},
     "output_type": "execute_result"
    }
   ],
   "source": [
    "# выведем первые пять строк датафрейма\n",
    "data.head()"
   ]
  },
  {
   "cell_type": "code",
   "execution_count": 10,
   "metadata": {},
   "outputs": [
    {
     "name": "stdout",
     "output_type": "stream",
     "text": [
      "<class 'pandas.core.frame.DataFrame'>\n",
      "Int64Index: 159292 entries, 0 to 159450\n",
      "Data columns (total 2 columns):\n",
      " #   Column  Non-Null Count   Dtype \n",
      "---  ------  --------------   ----- \n",
      " 0   text    159292 non-null  object\n",
      " 1   toxic   159292 non-null  int64 \n",
      "dtypes: int64(1), object(1)\n",
      "memory usage: 3.6+ MB\n"
     ]
    }
   ],
   "source": [
    "# выведем информацию о датафрейме\n",
    "data.info()"
   ]
  },
  {
   "cell_type": "markdown",
   "metadata": {},
   "source": [
    "В этом датасете хранятся следующие данные:\n",
    "- text: Текст комментария или поста.\n",
    "- toxic: Значение бинарной переменной, указывающее на токсичность текста (0 - нетоксичный, 1 - токсичный).\n",
    "\n",
    "Проверим какое соотношение у токсичных и нетоксичных комментариев."
   ]
  },
  {
   "cell_type": "code",
   "execution_count": 11,
   "metadata": {},
   "outputs": [
    {
     "data": {
      "text/plain": [
       "0    89.8\n",
       "1    10.2\n",
       "Name: toxic, dtype: float64"
      ]
     },
     "execution_count": 11,
     "metadata": {},
     "output_type": "execute_result"
    }
   ],
   "source": [
    "# выведем удельные веса целевого признака\n",
    "data['toxic'].value_counts(1).round(3)*100"
   ]
  },
  {
   "cell_type": "markdown",
   "metadata": {},
   "source": [
    "В датасете:\n",
    "- 89.8% нетоксичных записей.\n",
    "- 10.2% токсичных записей.\n",
    "\n",
    "Это означает, что большинство записей в датасете нетоксичны, и только небольшая часть является токсичной.\n",
    "\n",
    "Посмотрим на это соотношение на круговой диаграмме."
   ]
  },
  {
   "cell_type": "code",
   "execution_count": 12,
   "metadata": {},
   "outputs": [
    {
     "data": {
      "image/png": "[encoded data removed]",
      "text/plain": [
       "<Figure size 648x432 with 1 Axes>"
      ]
     },
     "metadata": {},
     "output_type": "display_data"
    }
   ],
   "source": [
    "# строим круговую диаграмму\n",
    "data['toxic'].value_counts().round(3).plot(kind='pie',\n",
    "                                           labels=['нетоксичные', 'токсичные'],  # переименовываем метки категорий\n",
    "                                           autopct='%1.1f%%',  # указываем формат подписей\n",
    "                                           shadow=True,  # включаем тень для диаграммы\n",
    "                                           startangle=45,  # устанавливаем начальный угол\n",
    "                                           ylabel='',  # убираем метку оси Y\n",
    "                                           colors=sns.color_palette('Set3'), # используем цветовую палитру Set3 \n",
    "                                           figsize=(9, 6)) # устанавливаем размер круговой диаграммы\n",
    "plt.title(f'Соотношение токсичных и нетоксичных комментариев') # заголовок диаграммы\n",
    "plt.show()"
   ]
  },
  {
   "cell_type": "markdown",
   "metadata": {},
   "source": [
    "Наш датасет в значительной степени несбалансирован. Соотношение нетоксичных комментариев к токсичным составляет примерно 9:1. Это может повлиять на точность модели, поэтому важно учитывать это при обучении и настройке гиперпараметров.\n",
    "\n",
    "Приступим к предобработке текста."
   ]
  },
  {
   "cell_type": "markdown",
   "metadata": {},
   "source": [
    "### Лемматизация и очистка текста"
   ]
  },
  {
   "cell_type": "markdown",
   "metadata": {},
   "source": [
    "Чтобы подготовить текст для обучения моделей лемматизируем его и очистим от небуквенных символов."
   ]
  },
  {
   "cell_type": "code",
   "execution_count": 13,
   "metadata": {},
   "outputs": [],
   "source": [
    "# функция get_wordnet_pos позволяет преобразовывать POS-теги слов в соответствующие теги WordNet\n",
    "def get_wordnet_pos(word):\n",
    "    tag = nltk.pos_tag([word])[0][1][0].upper()\n",
    "    tag_dict = {\"J\": wordnet.ADJ,\n",
    "                \"N\": wordnet.NOUN,\n",
    "                \"V\": wordnet.VERB,\n",
    "                \"R\": wordnet.ADV}\n",
    "    return tag_dict.get(tag, wordnet.NOUN)"
   ]
  },
  {
   "cell_type": "code",
   "execution_count": 14,
   "metadata": {},
   "outputs": [],
   "source": [
    "# напишем функцию для подготовки текста\n",
    "def lemmatize_clear_text(text):\n",
    "    # заменяем все небуквенные символы пробелами в тексте\n",
    "    clear_text_with_gaps = re.sub(r'[^a-zA-Z]', ' ', text) \n",
    "    # удаляем лишние пробелы в тексте\n",
    "    clear_text_without_gaps = ' '.join(nltk.word_tokenize(clear_text_with_gaps.lower())) \n",
    "    \n",
    "    # лемматизируем каждое слово в тексте\n",
    "    lemmatizer = WordNetLemmatizer() # создаем объект лемматизатора\n",
    "    lemmatized_words = [lemmatizer.lemmatize(word, get_wordnet_pos(word)) for word in nltk.word_tokenize(clear_text_without_gaps)] \n",
    "    \n",
    "    # соединяем лемматизированные слова в строку\n",
    "    lemmatized_text = ' '.join(lemmatized_words) \n",
    "    \n",
    "    return lemmatized_text # возвращаем очищенный текст без пробелов"
   ]
  },
  {
   "cell_type": "code",
   "execution_count": 15,
   "metadata": {
    "scrolled": true
   },
   "outputs": [],
   "source": [
    "# применение функции для обработки текстов\n",
    "data['lemm_text'] = data['text'].apply(lemmatize_clear_text)"
   ]
  },
  {
   "cell_type": "code",
   "execution_count": 16,
   "metadata": {},
   "outputs": [
    {
     "data": {
      "text/plain": [
       "0    explanation why the edits make under my userna...\n",
       "1    d aww he match this background colour i m seem...\n",
       "2    hey man i m really not try to edit war it s ju...\n",
       "3    more i can t make any real suggestion on impro...\n",
       "4    you sir be my hero any chance you remember wha...\n",
       "Name: lemm_text, dtype: object"
      ]
     },
     "execution_count": 16,
     "metadata": {},
     "output_type": "execute_result"
    }
   ],
   "source": [
    "# выведем результат работы функции\n",
    "# очищенный и лемматизированный при помощи POS-тегов текст\n",
    "data['lemm_text'].head()"
   ]
  },
  {
   "cell_type": "markdown",
   "metadata": {},
   "source": [
    "Далее подготовим текст в обучению моделей."
   ]
  },
  {
   "cell_type": "markdown",
   "metadata": {},
   "source": [
    "### Подготовка текста к обучению моделей"
   ]
  },
  {
   "cell_type": "markdown",
   "metadata": {},
   "source": [
    "На этом шаге необходимо:\n",
    "- разделить выборку на обучающую и тестовую,\n",
    "- исключить из выборок стоп-слова на английском языке,\n",
    "- получить матрицы tf-idf для обучающих и тестовых данных."
   ]
  },
  {
   "cell_type": "code",
   "execution_count": 17,
   "metadata": {},
   "outputs": [],
   "source": [
    "# загружаем лемматизированный текст из датасета в переменную X\n",
    "X = data['lemm_text']\n",
    "\n",
    "# загружаем целевой признак (токсичность) из датасета в переменную y\n",
    "y = data['toxic']\n",
    "\n",
    "# разделяем данные на обучающую и тестовую выборки\n",
    "X_train, X_test, y_train, y_test = train_test_split(X,\n",
    "                                                    y,\n",
    "                                                    test_size=TEST_SIZE,\n",
    "                                                    random_state=RANDOM_STATE,\n",
    "                                                    stratify=y)"
   ]
  },
  {
   "cell_type": "code",
   "execution_count": 18,
   "metadata": {},
   "outputs": [
    {
     "name": "stdout",
     "output_type": "stream",
     "text": [
      "(119469,)\n",
      "(39823,)\n"
     ]
    }
   ],
   "source": [
    "# выводим размерность обучающей выборки\n",
    "print(X_train.shape)\n",
    "\n",
    "# выводим размерность тестовой выборки\n",
    "print(X_test.shape)"
   ]
  },
  {
   "cell_type": "code",
   "execution_count": 19,
   "metadata": {},
   "outputs": [],
   "source": [
    "# создаем список стоп-слов на английском языке\n",
    "stopwords = list(set(nltk_stopwords.words('english')))"
   ]
  },
  {
   "cell_type": "code",
   "execution_count": 20,
   "metadata": {},
   "outputs": [],
   "source": [
    "# создаем объект TfidfVectorizer с использованием стоп-слов\n",
    "count_tf_idf = TfidfVectorizer(stop_words=stopwords)"
   ]
  },
  {
   "cell_type": "code",
   "execution_count": 21,
   "metadata": {},
   "outputs": [],
   "source": [
    "# обучаем TfidfVectorizer и применяем его к обучающей выборке\n",
    "tf_idf_train = count_tf_idf.fit_transform(X_train)\n",
    "\n",
    "# применяем TfidfVectorizer к тестовой выборке\n",
    "tf_idf_test = count_tf_idf.transform(X_test)"
   ]
  },
  {
   "cell_type": "code",
   "execution_count": 22,
   "metadata": {},
   "outputs": [
    {
     "name": "stdout",
     "output_type": "stream",
     "text": [
      "(119469, 127743)\n",
      "(39823, 127743)\n"
     ]
    }
   ],
   "source": [
    "# выводим размерность преобразованных данных для обучающей выборки\n",
    "print(tf_idf_train.shape)\n",
    "\n",
    "# выводим размерность преобразованных данных для тестовой выборки\n",
    "print(tf_idf_test.shape)"
   ]
  },
  {
   "cell_type": "markdown",
   "metadata": {},
   "source": [
    "Размерность итоговых данных большая - векторизатор добыл 128 тысяч словоформ. Это чрезвычайно много. Например, в Оксфордском словаре английского языка содержится около 171 476 актуальных слов для нашего времени. \n",
    "\n",
    "Вероятно, текст нуждается в лучшей предобработке. Но на данный момент остановимся на минимально работоспособном прототипе решения и посмотрим как обучаются модели и какой дают результат на таких данных."
   ]
  },
  {
   "cell_type": "markdown",
   "metadata": {},
   "source": [
    "**ОБЩИЙ ВЫВОД ПО ПОДГОТОВКЕ ДАННЫХ**\n",
    "\n",
    "На этапе подготовки мы: \n",
    "- Загрузили датасет;\n",
    "- Установили, что в нем содержатся тексты на английском языке. Всего около 150 тыс. сообщений;\n",
    "- Проанализировали целевой признак - токсичность текста. Определили, что в датасете намного больше обычных сообщений, чем токсичных.\n",
    "- Провели предобработку текста - очистили от небуквенных символов и лемматизировали слова в тексте;\n",
    "- Разбили выборку на обучающую и тестовую;\n",
    "- Привели текстовые данные к формату TF-IDF, то есть посчитали частоту встречаемости слов в каждом из текстов и представили эти результаты в виде матрицы, устранив при этом стоп-слова."
   ]
  },
  {
   "cell_type": "markdown",
   "metadata": {},
   "source": [
    "## Обучение и анализ моделей"
   ]
  },
  {
   "cell_type": "markdown",
   "metadata": {},
   "source": [
    "Обучим три класса моделей:\n",
    "- логистическую регрессию,\n",
    "- дерево решений,\n",
    "- метод ближайших соседей.\n",
    "\n",
    "Поскольку данные крайне несбалансированы, необходимо учесть это обстоятельство и при инициализации моделей указать параметр class_weight.\n",
    "\n",
    "Эта метрика подходит для ситуаций, когда классы сильно несбалансированы и важно учитывать различия в частоте классов. Она учитывает веса каждого класса, которые пропорциональны их частоте. Это позволяет более точно оценить производительность модели в условиях несбалансированных данных.\n",
    "\n",
    "Будем придерживаться такого плана:\n",
    "- измерим качество каждой из моделей на кросс-валидационной выборке (методом cross_val_score),\n",
    "- сравним характеристики моделей - метрику f1 на кросс-валидационной выборке и время обучения,\n",
    "- выберем лучшую модель и построим прогноз на тестовых данных по ней,\n",
    "- осуществим расчет метрики f1 на тестовых данных и сравним результаты с тренировочными данными."
   ]
  },
  {
   "cell_type": "markdown",
   "metadata": {},
   "source": [
    "Ниже представлены модели, которые будут использоваться для классификации данных.\n",
    "\n",
    "**Логистическая регрессия (LogisticRegression)** и **Дерево решений (DecisionTreeClassifier)**:\n",
    "- Устанавлено случайное состояние для воспроизводимости результатов.\n",
    "- Модель использует сбалансированный вес классов для учета несбалансированности данных.\n",
    "\n",
    "**Метод ближайших соседей (KNeighborsClassifier)**: \n",
    "\n",
    "- Устанавлено количество соседей (n_neighbors) равным 100."
   ]
  },
  {
   "cell_type": "code",
   "execution_count": 23,
   "metadata": {},
   "outputs": [],
   "source": [
    "# создаём модель для логистической регрессии\n",
    "model_lr = LogisticRegression(random_state=RANDOM_STATE, class_weight='balanced')\n",
    "\n",
    "# создаём модель для дерева решений\n",
    "model_dt = DecisionTreeClassifier(random_state=RANDOM_STATE, class_weight='balanced')\n",
    "\n",
    "# создаём модель для метода ближайших соседей\n",
    "model_knn = KNeighborsClassifier(n_neighbors=100)"
   ]
  },
  {
   "cell_type": "markdown",
   "metadata": {},
   "source": [
    "Далее напишем функцию, которая позволяет оценить производительность модели на обучающей выборке, учитывая как точность (f1), так и время обучения."
   ]
  },
  {
   "cell_type": "code",
   "execution_count": 24,
   "metadata": {},
   "outputs": [],
   "source": [
    "# запишем функцию для оценки работы моделей\n",
    "def model_pred(model):\n",
    "    \n",
    "    # фиксируем время начала обучения\n",
    "    start_train_time = timeit.default_timer()\n",
    "    \n",
    "    # проводим кросс-валидацию с использованием cross_val_score    \n",
    "    scores = cross_val_score(model,\n",
    "                             tf_idf_train, \n",
    "                             y_train,\n",
    "                             scoring='f1', \n",
    "                             cv=3, \n",
    "                             verbose=3,\n",
    "                             n_jobs=-1) \n",
    "    \n",
    "    # фиксируем время окончания обучения\n",
    "    end_train_time = timeit.default_timer() \n",
    "    \n",
    "    # рассчитываем продолжительность обучения\n",
    "    train_time = end_train_time - start_train_time\n",
    "    \n",
    "    # сохраняем среднее значение метрики по кросс-валидационной выборке \n",
    "    train_f1 = scores.mean()\n",
    "    \n",
    "    # функция вернет метрику f1 и время обучения на кросс-валидационной выборке\n",
    "    return train_f1, train_time"
   ]
  },
  {
   "cell_type": "code",
   "execution_count": 25,
   "metadata": {
    "scrolled": true
   },
   "outputs": [
    {
     "name": "stderr",
     "output_type": "stream",
     "text": [
      "[Parallel(n_jobs=-1)]: Using backend SequentialBackend with 1 concurrent workers.\n"
     ]
    },
    {
     "name": "stdout",
     "output_type": "stream",
     "text": [
      "[CV] END ................................ score: (test=0.741) total time=  37.0s\n"
     ]
    },
    {
     "name": "stderr",
     "output_type": "stream",
     "text": [
      "[Parallel(n_jobs=-1)]: Done   1 out of   1 | elapsed:   37.0s remaining:    0.0s\n"
     ]
    },
    {
     "name": "stdout",
     "output_type": "stream",
     "text": [
      "[CV] END ................................ score: (test=0.749) total time=  42.0s\n"
     ]
    },
    {
     "name": "stderr",
     "output_type": "stream",
     "text": [
      "[Parallel(n_jobs=-1)]: Done   2 out of   2 | elapsed:  1.3min remaining:    0.0s\n"
     ]
    },
    {
     "name": "stdout",
     "output_type": "stream",
     "text": [
      "[CV] END ................................ score: (test=0.743) total time=  28.8s\n"
     ]
    },
    {
     "name": "stderr",
     "output_type": "stream",
     "text": [
      "[Parallel(n_jobs=-1)]: Done   3 out of   3 | elapsed:  1.8min finished\n"
     ]
    }
   ],
   "source": [
    "# оцениваем производительность модели логистической регрессии\n",
    "train_f1_lr, train_time_lr = model_pred(model_lr)"
   ]
  },
  {
   "cell_type": "code",
   "execution_count": 26,
   "metadata": {},
   "outputs": [
    {
     "name": "stderr",
     "output_type": "stream",
     "text": [
      "[Parallel(n_jobs=-1)]: Using backend SequentialBackend with 1 concurrent workers.\n"
     ]
    },
    {
     "name": "stdout",
     "output_type": "stream",
     "text": [
      "[CV] END ................................ score: (test=0.655) total time= 1.2min\n"
     ]
    },
    {
     "name": "stderr",
     "output_type": "stream",
     "text": [
      "[Parallel(n_jobs=-1)]: Done   1 out of   1 | elapsed:  1.2min remaining:    0.0s\n"
     ]
    },
    {
     "name": "stdout",
     "output_type": "stream",
     "text": [
      "[CV] END ................................ score: (test=0.622) total time= 1.2min\n"
     ]
    },
    {
     "name": "stderr",
     "output_type": "stream",
     "text": [
      "[Parallel(n_jobs=-1)]: Done   2 out of   2 | elapsed:  2.4min remaining:    0.0s\n"
     ]
    },
    {
     "name": "stdout",
     "output_type": "stream",
     "text": [
      "[CV] END ................................ score: (test=0.647) total time= 1.2min\n"
     ]
    },
    {
     "name": "stderr",
     "output_type": "stream",
     "text": [
      "[Parallel(n_jobs=-1)]: Done   3 out of   3 | elapsed:  3.6min finished\n"
     ]
    }
   ],
   "source": [
    "# оцениваем производительность модели дерева решений\n",
    "train_f1_dt, train_time_dt = model_pred(model_dt)"
   ]
  },
  {
   "cell_type": "code",
   "execution_count": 27,
   "metadata": {
    "scrolled": false
   },
   "outputs": [
    {
     "name": "stderr",
     "output_type": "stream",
     "text": [
      "[Parallel(n_jobs=-1)]: Using backend SequentialBackend with 1 concurrent workers.\n"
     ]
    },
    {
     "name": "stdout",
     "output_type": "stream",
     "text": [
      "[CV] END ................................ score: (test=0.369) total time= 2.2min\n"
     ]
    },
    {
     "name": "stderr",
     "output_type": "stream",
     "text": [
      "[Parallel(n_jobs=-1)]: Done   1 out of   1 | elapsed:  2.2min remaining:    0.0s\n"
     ]
    },
    {
     "name": "stdout",
     "output_type": "stream",
     "text": [
      "[CV] END ................................ score: (test=0.486) total time= 2.2min\n"
     ]
    },
    {
     "name": "stderr",
     "output_type": "stream",
     "text": [
      "[Parallel(n_jobs=-1)]: Done   2 out of   2 | elapsed:  4.4min remaining:    0.0s\n"
     ]
    },
    {
     "name": "stdout",
     "output_type": "stream",
     "text": [
      "[CV] END ................................ score: (test=0.394) total time= 2.2min\n"
     ]
    },
    {
     "name": "stderr",
     "output_type": "stream",
     "text": [
      "[Parallel(n_jobs=-1)]: Done   3 out of   3 | elapsed:  6.6min finished\n"
     ]
    }
   ],
   "source": [
    "# оцениваем производительность модели K-ближайших соседей\n",
    "train_f1_knn, train_time_knn = model_pred(model_knn)"
   ]
  },
  {
   "cell_type": "markdown",
   "metadata": {},
   "source": [
    "Посмотрим на результаты."
   ]
  },
  {
   "cell_type": "code",
   "execution_count": 28,
   "metadata": {},
   "outputs": [],
   "source": [
    "# составим датафрейм с ключевыми метриками моделей\n",
    "model_results = pd.DataFrame({'train_f1' : [train_f1_lr,\n",
    "                                            train_f1_dt,\n",
    "                                            train_f1_knn],\n",
    "                              'train_time' : [train_time_lr,\n",
    "                                              train_time_dt,\n",
    "                                              train_time_knn]\n",
    "                             },\n",
    "                            index=['Логистическая регрессия', \n",
    "                                   'Дерево решений',\n",
    "                                   'K-ближайших соседей']\n",
    "                            )"
   ]
  },
  {
   "cell_type": "code",
   "execution_count": 29,
   "metadata": {
    "scrolled": false
   },
   "outputs": [
    {
     "data": {
      "text/html": [
       "<div>\n",
       "<style scoped>\n",
       "    .dataframe tbody tr th:only-of-type {\n",
       "        vertical-align: middle;\n",
       "    }\n",
       "\n",
       "    .dataframe tbody tr th {\n",
       "        vertical-align: top;\n",
       "    }\n",
       "\n",
       "    .dataframe thead th {\n",
       "        text-align: right;\n",
       "    }\n",
       "</style>\n",
       "<table border=\"1\" class=\"dataframe\">\n",
       "  <thead>\n",
       "    <tr style=\"text-align: right;\">\n",
       "      <th></th>\n",
       "      <th>train_f1</th>\n",
       "      <th>train_time</th>\n",
       "    </tr>\n",
       "  </thead>\n",
       "  <tbody>\n",
       "    <tr>\n",
       "      <th>Логистическая регрессия</th>\n",
       "      <td>0.74</td>\n",
       "      <td>107.82</td>\n",
       "    </tr>\n",
       "    <tr>\n",
       "      <th>Дерево решений</th>\n",
       "      <td>0.64</td>\n",
       "      <td>215.74</td>\n",
       "    </tr>\n",
       "    <tr>\n",
       "      <th>K-ближайших соседей</th>\n",
       "      <td>0.42</td>\n",
       "      <td>395.31</td>\n",
       "    </tr>\n",
       "  </tbody>\n",
       "</table>\n",
       "</div>"
      ],
      "text/plain": [
       "                         train_f1  train_time\n",
       "Логистическая регрессия      0.74      107.82\n",
       "Дерево решений               0.64      215.74\n",
       "K-ближайших соседей          0.42      395.31"
      ]
     },
     "execution_count": 29,
     "metadata": {},
     "output_type": "execute_result"
    }
   ],
   "source": [
    "# посмотрим на результаты\n",
    "model_results.round(2)"
   ]
  },
  {
   "cell_type": "markdown",
   "metadata": {},
   "source": [
    "**Анализ результатов оценки метрик на кросс-валидационной выборке**\n",
    "\n",
    "- Логистическая регрессия:\n",
    "\n",
    "    Высокая точность (train_f1 = 0.74) при относительно коротком времени обучения. Это свидетельствует о хорошей производительности модели с точки зрения точности и скорости обучения.\n",
    "\n",
    "\n",
    "- Дерево решений:\n",
    "    \n",
    "    Средняя точность (train_f1 = 0.64) при более длительном времени обучения. Это может указывать на то, что модель требует больше времени для обучения, но всё же обеспечивает неплохую точность.\n",
    "\n",
    "\n",
    "- K-ближайших соседей:\n",
    "    \n",
    "    Низкая точность (train_f1 = 0.42) при самом длительном времени обучения. Это может означать, что модель требует больше времени для обучения и не обеспечивает высокую точность.\n",
    "\n",
    "\n",
    "**Вывод:**\n",
    "Логистическая регрессия представляется наиболее подходящей моделью для использования в данном случае, учитывая её высокую точность и быстрое время обучения. Однако на кросс-валидационной выборке мы получили метрику f1 меньше 0,75.\n",
    "\n",
    "Далее подберем гиперпараметры для логистической регрессии через рандомизированный поиск с кросс-валидацией, чтобы выполнить требование по проекту."
   ]
  },
  {
   "cell_type": "code",
   "execution_count": 51,
   "metadata": {},
   "outputs": [],
   "source": [
    "# определение параметров для поиска\n",
    "param_grid_lr = {\n",
    "    'C': [0.1, 1, 10],\n",
    "    'penalty': ['l1', 'l2', 'elasticnet'],\n",
    "    'solver': ['liblinear', 'lbfgs', 'saga']\n",
    "}"
   ]
  },
  {
   "cell_type": "code",
   "execution_count": 52,
   "metadata": {},
   "outputs": [],
   "source": [
    "# создание объекта RandomizedSearchCV\n",
    "random_search = RandomizedSearchCV(model_lr, \n",
    "                                   param_grid_lr, \n",
    "                                   scoring='f1', \n",
    "                                   cv=3,\n",
    "                                   verbose=3,\n",
    "                                   n_jobs=-1)"
   ]
  },
  {
   "cell_type": "code",
   "execution_count": 53,
   "metadata": {},
   "outputs": [
    {
     "name": "stdout",
     "output_type": "stream",
     "text": [
      "Fitting 3 folds for each of 10 candidates, totalling 30 fits\n",
      "[CV 1/3] END ............C=0.1, penalty=l1, solver=liblinear; total time=   0.7s\n",
      "[CV 2/3] END ............C=0.1, penalty=l1, solver=liblinear; total time=   0.7s\n",
      "[CV 3/3] END ............C=0.1, penalty=l1, solver=liblinear; total time=   0.7s\n",
      "[CV 1/3] END .........C=0.1, penalty=elasticnet, solver=saga; total time=   0.0s\n",
      "[CV 2/3] END .........C=0.1, penalty=elasticnet, solver=saga; total time=   0.0s\n",
      "[CV 3/3] END .........C=0.1, penalty=elasticnet, solver=saga; total time=   0.0s\n",
      "[CV 1/3] END .................C=0.1, penalty=l1, solver=saga; total time=  15.3s\n",
      "[CV 2/3] END .................C=0.1, penalty=l1, solver=saga; total time=  15.2s\n",
      "[CV 3/3] END .................C=0.1, penalty=l1, solver=saga; total time=  15.4s\n",
      "[CV 1/3] END ..........C=1, penalty=elasticnet, solver=lbfgs; total time=   0.0s\n",
      "[CV 2/3] END ..........C=1, penalty=elasticnet, solver=lbfgs; total time=   0.0s\n",
      "[CV 3/3] END ..........C=1, penalty=elasticnet, solver=lbfgs; total time=   0.0s\n",
      "[CV 1/3] END ......C=1, penalty=elasticnet, solver=liblinear; total time=   0.0s\n",
      "[CV 2/3] END ......C=1, penalty=elasticnet, solver=liblinear; total time=   0.0s\n",
      "[CV 3/3] END ......C=1, penalty=elasticnet, solver=liblinear; total time=   0.0s\n",
      "[CV 1/3] END ..................C=1, penalty=l1, solver=lbfgs; total time=   0.0s\n",
      "[CV 2/3] END ..................C=1, penalty=l1, solver=lbfgs; total time=   0.0s\n",
      "[CV 3/3] END ..................C=1, penalty=l1, solver=lbfgs; total time=   0.0s\n",
      "[CV 1/3] END ............C=0.1, penalty=l2, solver=liblinear; total time=   6.2s\n",
      "[CV 2/3] END ............C=0.1, penalty=l2, solver=liblinear; total time=   6.8s\n",
      "[CV 3/3] END ............C=0.1, penalty=l2, solver=liblinear; total time=   6.8s\n",
      "[CV 1/3] END .................C=10, penalty=l2, solver=lbfgs; total time=  39.0s\n",
      "[CV 2/3] END .................C=10, penalty=l2, solver=lbfgs; total time=  41.9s\n",
      "[CV 3/3] END .................C=10, penalty=l2, solver=lbfgs; total time=  40.2s\n",
      "[CV 1/3] END ..............C=1, penalty=l1, solver=liblinear; total time=   1.1s\n",
      "[CV 2/3] END ..............C=1, penalty=l1, solver=liblinear; total time=   1.1s\n",
      "[CV 3/3] END ..............C=1, penalty=l1, solver=liblinear; total time=   1.1s\n",
      "[CV 1/3] END ...................C=1, penalty=l2, solver=saga; total time=   7.0s\n",
      "[CV 2/3] END ...................C=1, penalty=l2, solver=saga; total time=   6.7s\n",
      "[CV 3/3] END ...................C=1, penalty=l2, solver=saga; total time=   7.2s\n"
     ]
    },
    {
     "data": {
      "text/plain": [
       "RandomizedSearchCV(cv=3,\n",
       "                   estimator=LogisticRegression(class_weight='balanced',\n",
       "                                                random_state=12),\n",
       "                   n_jobs=-1,\n",
       "                   param_distributions={'C': [0.1, 1, 10],\n",
       "                                        'penalty': ['l1', 'l2', 'elasticnet'],\n",
       "                                        'solver': ['liblinear', 'lbfgs',\n",
       "                                                   'saga']},\n",
       "                   scoring='f1', verbose=3)"
      ]
     },
     "execution_count": 53,
     "metadata": {},
     "output_type": "execute_result"
    }
   ],
   "source": [
    "# обучение модели с использованием RandomizedSearchCV\n",
    "random_search.fit(tf_idf_train, y_train)"
   ]
  },
  {
   "cell_type": "code",
   "execution_count": 70,
   "metadata": {},
   "outputs": [],
   "source": [
    "# получение оценки метрики качества, лучших параметров и модели\n",
    "best_score = random_search.best_score_\n",
    "best_params = random_search.best_params_\n",
    "best_model = random_search.best_estimator_"
   ]
  },
  {
   "cell_type": "code",
   "execution_count": 76,
   "metadata": {},
   "outputs": [
    {
     "data": {
      "text/plain": [
       "0.7574"
      ]
     },
     "execution_count": 76,
     "metadata": {},
     "output_type": "execute_result"
    }
   ],
   "source": [
    "# оценка метрики лучшей модели\n",
    "best_score.round(4)"
   ]
  },
  {
   "cell_type": "markdown",
   "metadata": {},
   "source": [
    "В результате рандомизированного поиска нам удалось получить на кросс-валидационной выборке оценку f1 выше 0,75.\n",
    "\n",
    "Проверим метрику на тестовой выборке."
   ]
  },
  {
   "cell_type": "code",
   "execution_count": 62,
   "metadata": {},
   "outputs": [
    {
     "data": {
      "text/plain": [
       "LogisticRegression(C=10, class_weight='balanced', random_state=12)"
      ]
     },
     "execution_count": 62,
     "metadata": {},
     "output_type": "execute_result"
    }
   ],
   "source": [
    "# лучшая модель после рандомизированного поиска\n",
    "best_model"
   ]
  },
  {
   "cell_type": "code",
   "execution_count": 68,
   "metadata": {},
   "outputs": [
    {
     "data": {
      "text/plain": [
       "{'solver': 'lbfgs', 'penalty': 'l2', 'C': 10}"
      ]
     },
     "execution_count": 68,
     "metadata": {},
     "output_type": "execute_result"
    }
   ],
   "source": [
    "# лучшие гиперпараметры\n",
    "best_params"
   ]
  },
  {
   "cell_type": "markdown",
   "metadata": {},
   "source": [
    "Лучшей моделью оказалась логистическая регрессия с параметрами:\n",
    "\n",
    "- C=10:\n",
    "C определяет силу регуляризации. Чем меньше значение C, тем сильнее регуляризация. В данном случае C=10, что означает умеренную регуляризацию.\n",
    "\n",
    "- solver='lbfgs':\n",
    "lbfgs (Limited-memory Broyden–Fletcher–Goldfarb–Shanno) является эффективным оптимизатором, который использует приближение градиента для ускорения вычислений. Он хорошо подходит для больших и сложных моделей.\n",
    "\n",
    "- penalty='l2':\n",
    "L2-регуляризация помогает избежать переобучения, штрафуя большие веса. Это делает модель более устойчивой к шуму в данных.\n",
    "\n",
    "Модель LogisticRegression с параметрами C=10, solver=‘lbfgs’, penalty=‘l2’ является хорошо сбалансированной и устойчивой к переобучению. Она подходит для работы с несбалансированными данными и обеспечивает хорошую производительность благодаря умеренной регуляризации и эффективному оптимизатору."
   ]
  },
  {
   "cell_type": "code",
   "execution_count": 63,
   "metadata": {},
   "outputs": [],
   "source": [
    "# получим предсказания по лучшей модели\n",
    "y_pred = best_model.predict(tf_idf_test)"
   ]
  },
  {
   "cell_type": "code",
   "execution_count": 74,
   "metadata": {},
   "outputs": [],
   "source": [
    "# вычислим метрику F1 на тестовых данных\n",
    "best_test_f1 = f1_score(y_test, y_pred)"
   ]
  },
  {
   "cell_type": "code",
   "execution_count": 75,
   "metadata": {},
   "outputs": [
    {
     "data": {
      "text/plain": [
       "0.7567"
      ]
     },
     "execution_count": 75,
     "metadata": {},
     "output_type": "execute_result"
    }
   ],
   "source": [
    "# лучшая метрика на тестовых данных\n",
    "best_test_f1.round(4)"
   ]
  },
  {
   "cell_type": "markdown",
   "metadata": {},
   "source": [
    "На тестовой выборке также видим оценку f1 выше 0,75.\n",
    "\n",
    "Мы выполнили требование по качеству модели."
   ]
  },
  {
   "cell_type": "markdown",
   "metadata": {},
   "source": [
    "**Анализ метрики на тестовой выборке по лучшей модели**\n",
    "\n",
    "Значение метрики F1 на тестовой выборке по логистической регрессии составило 0.76.\n",
    "Аналогичное значение мы получили на кросс-валидационной выборке.\n",
    "\n",
    "Это значение показывает, что модель имеет хорошую общую производительность, учитывая как точность, так и полноту для обоих классов. \n",
    "\n",
    "Учитывая сильную несбалансированность данных, необходимо удостоверится, нуждается ли модель в улучшении для более точного распознавания токсичных записей.\n",
    "\n",
    "Для этого построим матрицу ошибок и отчет по классификации."
   ]
  },
  {
   "cell_type": "code",
   "execution_count": 83,
   "metadata": {},
   "outputs": [
    {
     "data": {
      "image/png": "[encoded data removed]",
      "text/plain": [
       "<Figure size 576x432 with 2 Axes>"
      ]
     },
     "metadata": {
      "needs_background": "light"
     },
     "output_type": "display_data"
    }
   ],
   "source": [
    "# матрица ошибок\n",
    "confusion_matrix = confusion_matrix(y_test, y_pred)\n",
    "\n",
    "# преобразование матрицы в формат для seaborn\n",
    "labels = ['Нетоксичные', 'Токсичные']\n",
    "data = [\n",
    "    [confusion_matrix[0][0], confusion_matrix[0][1]],\n",
    "    [confusion_matrix[1][0], confusion_matrix[1][1]]\n",
    "]\n",
    "\n",
    "# визуализация тепловой карты\n",
    "fig, ax = plt.subplots(figsize=(8, 6))\n",
    "sns.heatmap(data, annot=True, fmt='d', cmap='Blues', xticklabels=labels, yticklabels=labels)\n",
    "plt.xlabel('Предсказанные классы')\n",
    "plt.ylabel('Фактические классы')\n",
    "plt.title('Матрица ошибок')\n",
    "plt.show()"
   ]
  },
  {
   "cell_type": "markdown",
   "metadata": {},
   "source": [
    "**Анализ матрицы ошибок**\n",
    "* True Positive (TP):\n",
    "    Количество правильно предсказанных токсичных записей: 3326.\n",
    "\n",
    "* False Positive (FP):\n",
    "    Количество ошибочно предсказанных токсичных записей: 1418.\n",
    "\n",
    "* True Negative (TN):\n",
    "    Количество правильно предсказанных нетоксичных записей: 34358.\n",
    "\n",
    "* False Negative (FN):\n",
    "    Количество ошибочно предсказанных нетоксичных записей: 721.\n",
    "    \n",
    "**Вывод:** Наглядно видно, что количество ошибок False Positive (неправильный класс \"1\") по отношению к правильно предсказанным токсичным записям намного больше, чем ошибок (неправильный класс \"0\") по отношению к ошибочно предсказанным нетоксичным записям.\n",
    "\n",
    "Рассмотрим более подробно, как определяются эти классы, но для сопоставления будем использовать относительные метрики."
   ]
  },
  {
   "cell_type": "code",
   "execution_count": 85,
   "metadata": {},
   "outputs": [
    {
     "name": "stdout",
     "output_type": "stream",
     "text": [
      "              precision    recall  f1-score   support\n",
      "\n",
      "           0       0.98      0.96      0.97     35776\n",
      "           1       0.70      0.82      0.76      4047\n",
      "\n",
      "    accuracy                           0.95     39823\n",
      "   macro avg       0.84      0.89      0.86     39823\n",
      "weighted avg       0.95      0.95      0.95     39823\n",
      "\n"
     ]
    }
   ],
   "source": [
    "# выведем на экран отчет по классификации\n",
    "print(classification_report(y_test, y_pred))"
   ]
  },
  {
   "cell_type": "markdown",
   "metadata": {},
   "source": [
    "**Анализ отчета по классификации**\n",
    "\n",
    "* Precision (Точность):\n",
    "    - Для класса 0 (нетоксичные записи): 0.98.\n",
    "    - Для класса 1 (токсичные записи): 0.70.\n",
    "\n",
    "\n",
    "* Recall (Полнота):\n",
    "    - Для класса 0: 0.96.\n",
    "    - Для класса 1: 0.82.\n",
    "\n",
    "\n",
    "* F1-Score (F1-мера):\n",
    "    - Для класса 0: 0.97.\n",
    "    - Для класса 1: 0.76.\n",
    "\n",
    "**Выводы и закономерности**\n",
    "\n",
    "- *Высокая точность для нетоксичных записей*:\n",
    "\n",
    "    Модель показывает высокую точность для большинства записей, что свидетельствует о её способности правильно классифицировать нетоксичные записи.\n",
    "\n",
    "\n",
    "- *Низкая точность для токсичных записей*:\n",
    "    \n",
    "    Для токсичных записей точность ниже, что может быть связано с их меньшей долей в данных.\n",
    "\n",
    "\n",
    "- *Высокая полнота для токсичных записей*:\n",
    "    \n",
    "    Полнота для токсичных записей высокая, что означает, что модель хорошо распознает токсичные записи среди всех токсичных записей в данных.\n",
    "\n",
    "\n",
    "Сильная несбалансированность данных влияет на точность и полноту модели. Модель лучше справляется с большинством нетоксичных записей, но менее эффективна для токсичных записей. Для улучшения результатов можно рассмотреть методы балансировки данных, чтобы улучшить точность для токсичных записей."
   ]
  },
  {
   "cell_type": "markdown",
   "metadata": {},
   "source": [
    "**ОБЩИЙ ВЫВОД ПО ОБУЧЕНИЮ И ТЕСТИРОВАНИЮ МОДЕЛЕЙ**\n",
    "\n",
    "В рамках раздела \"Обучение моделей\" были реализованы следующие шаги:\n",
    "\n",
    "1. **Создание моделей**:\n",
    "   - **Логистическая регрессия (LogisticRegression)**:\n",
    "     - Установлено случайное состояние для воспроизводимости результатов.\n",
    "     - Используется сбалансированный вес классов для учета несбалансированности данных.\n",
    "\n",
    "   - **Дерево решений (DecisionTreeClassifier)**:\n",
    "     - Установлено случайное состояние для воспроизводимости.\n",
    "     - Используется сбалансированный вес классов.\n",
    "\n",
    "   - **Метод ближайших соседей (KNeighborsClassifier)**:\n",
    "     - Установлено количество соседей (n_neighbors) равным 100.\n",
    "     \n",
    "\n",
    "2. **Измерение качества моделей на кросс-валидационной выборке**:\n",
    "   - Для каждой модели была проведена кросс-валидация с использованием `cross_val_score`.\n",
    "   - Метрика `f1` использовалась для учета токсичного класса.\n",
    "\n",
    "\n",
    "3. **Сравнение характеристик моделей**:\n",
    "   - Были рассчитаны метрика `f1` и время обучения для каждой модели.\n",
    "   - Логистическая регрессия показала высокую точность при относительно коротком времени обучения.\n",
    "   - Дерево решений продемонстрировало среднюю точность при более длительном времени обучения.\n",
    "   - Метод ближайших соседей показал низкую точность при самом длительном времени обучения.\n",
    "\n",
    "\n",
    "4. **Выбор лучшей модели**:\n",
    "   - Логистическая регрессия была выбрана как наиболее подходящая модель, учитывая её высокую точность и быстрое время обучения.\n",
    "   - После подбора гиперпараметров при помощи рандомизированного поиска на кросс-валидационной выборке было улучшено качество модели.\n",
    "\n",
    "\n",
    "5. **Построение прогноза на тестовых данных**:\n",
    "   - Прогноз был построен на тестовых данных с использованием выбранной модели.\n",
    "\n",
    "\n",
    "6. **Расчет метрики f1 на тестовых данных**:\n",
    "   - Значение метрики f1 на тестовой выборке по логистической регрессии составило 0.76, что соответствует значению на кросс-валидационной выборке.\n",
    "\n",
    "\n",
    "Таким образом, логистическая регрессия показала себя как наиболее эффективная модель для классификации данных с учетом их несбалансированности."
   ]
  },
  {
   "cell_type": "markdown",
   "metadata": {},
   "source": [
    "## Выводы по работе"
   ]
  },
  {
   "cell_type": "markdown",
   "metadata": {},
   "source": [
    "В рамках проекта были выполнены следующие ключевые этапы:\n",
    "\n",
    "1. **Подготовка данных**:\n",
    "   - Загружен датасет, содержащий около 150 тыс. сообщений на английском языке.\n",
    "   - Проведен анализ целевого признака (токсичность текста), выявивший значительную несбалансированность данных (гораздо больше обычных сообщений, чем токсичных).\n",
    "   - Выполнена предобработка текста: очистка от небуквенных символов и лемматизация слов.\n",
    "   - Разделение выборки на обучающую и тестовую.\n",
    "   - Приведение текстовых данных к формату TF-IDF, что позволило представить тексты в виде матрицы частот слов, устранив при этом стоп-слова.\n",
    "   \n",
    "\n",
    "2. **Обучение и тестирование моделей**:\n",
    "   - Созданы три модели: логистическая регрессия (LogisticRegression), дерево решений (DecisionTreeClassifier) и метод ближайших соседей (KNeighborsClassifier).\n",
    "   - Для каждой модели проведено измерение качества на кросс-валидационной выборке с использованием метрики `f1`.\n",
    "   - Выполнено сравнение характеристик моделей: логистическая регрессия показала высокую точность при относительно коротком времени обучения, дерево решений продемонстрировало среднюю точность при более длительном времени обучения, а метод ближайших соседей показал низкую точность при самом длительном времени обучения.\n",
    "   - Логистическая регрессия была выбрана как наиболее подходящая модель, учитывая её высокую точность и быстрое время обучения.\n",
    "   - Построен прогноз на тестовых данных с использованием выбранной модели.\n",
    "   - Рассчитана метрика f1 на тестовых данных, которая составила 0.76, что соответствует значению на кросс-валидационной выборке.\n",
    "\n",
    "**ЗАКЛЮЧЕНИЕ:**\n",
    "\n",
    "* **Лучшая модель**\n",
    "\n",
    "    Логистическая регрессия представляется наиболее подходящей моделью для использования в данном случае, учитывая её высокую точность и относительно короткое время обучения.\n",
    "\n",
    "\n",
    "* **Несбалансированность классов**\n",
    "\n",
    "    Однако, несмотря на высокую точность, модель демонстрирует некоторые проблемы, связанные с несбалансированностью данных. Анализ матрицы ошибок показывает, что количество ошибок False Positive (неправильный класс “1”) значительно превышает количество ошибок False Negative (неправильный класс “0”). Это указывает на необходимость улучшения модели для более точного распознавания токсичных записей.\n",
    "    \n",
    "    \n",
    "* **Рекомендации по устранению несбалансированности** \n",
    "\n",
    "    Для улучшения результатов можно рассмотреть методы балансировки данных, такие как SMOTE или Random Undersampling, чтобы уменьшить влияние несбалансированности на точность модели. Это позволит повысить точность для токсичных записей и улучшить общую производительность модели."
   ]
  }
 ],
 "metadata": {
  "ExecuteTimeLog": [
   {
    "duration": 393,
    "start_time": "2024-10-14T13:51:10.147Z"
   },
   {
    "duration": 1079,
    "start_time": "2024-10-14T13:51:52.365Z"
   },
   {
    "duration": 12,
    "start_time": "2024-10-14T13:52:05.727Z"
   },
   {
    "duration": 57,
    "start_time": "2024-10-14T13:52:24.536Z"
   },
   {
    "duration": 778,
    "start_time": "2024-10-14T13:52:29.925Z"
   },
   {
    "duration": 57,
    "start_time": "2024-10-14T13:53:28.809Z"
   },
   {
    "duration": 764,
    "start_time": "2024-10-14T13:53:31.009Z"
   },
   {
    "duration": 5,
    "start_time": "2024-10-14T13:53:32.671Z"
   },
   {
    "duration": 253023,
    "start_time": "2024-10-14T13:53:58.110Z"
   },
   {
    "duration": 46,
    "start_time": "2024-10-14T13:58:11.134Z"
   },
   {
    "duration": 20649,
    "start_time": "2024-10-14T13:58:16.535Z"
   },
   {
    "duration": 10,
    "start_time": "2024-10-14T13:58:54.294Z"
   },
   {
    "duration": 5,
    "start_time": "2024-10-14T13:58:57.475Z"
   },
   {
    "duration": 5,
    "start_time": "2024-10-14T13:59:03.211Z"
   },
   {
    "duration": 5,
    "start_time": "2024-10-14T13:59:07.360Z"
   },
   {
    "duration": 58,
    "start_time": "2024-10-14T13:59:11.462Z"
   },
   {
    "duration": 59,
    "start_time": "2024-10-14T13:59:14.558Z"
   },
   {
    "duration": 6,
    "start_time": "2024-10-14T13:59:20.108Z"
   },
   {
    "duration": 6,
    "start_time": "2024-10-14T13:59:23.912Z"
   },
   {
    "duration": 6,
    "start_time": "2024-10-14T13:59:26.168Z"
   },
   {
    "duration": 26,
    "start_time": "2024-10-14T14:00:20.598Z"
   },
   {
    "duration": 44,
    "start_time": "2024-10-14T14:01:10.540Z"
   },
   {
    "duration": 401,
    "start_time": "2024-10-14T14:01:18.626Z"
   },
   {
    "duration": 1135,
    "start_time": "2024-10-14T14:01:19.029Z"
   },
   {
    "duration": 13,
    "start_time": "2024-10-14T14:01:20.167Z"
   },
   {
    "duration": 23,
    "start_time": "2024-10-14T14:01:20.181Z"
   },
   {
    "duration": 91,
    "start_time": "2024-10-14T14:01:20.206Z"
   },
   {
    "duration": 303,
    "start_time": "2024-10-14T14:01:20.298Z"
   },
   {
    "duration": 56,
    "start_time": "2024-10-14T14:01:27.011Z"
   },
   {
    "duration": 88,
    "start_time": "2024-10-14T14:01:37.286Z"
   },
   {
    "duration": 2,
    "start_time": "2024-10-14T14:01:52.371Z"
   },
   {
    "duration": 57,
    "start_time": "2024-10-14T14:01:56.214Z"
   },
   {
    "duration": 56,
    "start_time": "2024-10-14T14:02:03.458Z"
   },
   {
    "duration": 220,
    "start_time": "2024-10-14T14:02:33.376Z"
   },
   {
    "duration": 197,
    "start_time": "2024-10-14T14:02:37.433Z"
   },
   {
    "duration": 23,
    "start_time": "2024-10-14T14:02:46.765Z"
   },
   {
    "duration": 20,
    "start_time": "2024-10-14T14:02:52.219Z"
   },
   {
    "duration": 1971,
    "start_time": "2024-10-15T10:13:05.638Z"
   },
   {
    "duration": 3,
    "start_time": "2024-10-15T10:13:12.232Z"
   },
   {
    "duration": 1342,
    "start_time": "2024-10-15T10:13:12.237Z"
   },
   {
    "duration": 10,
    "start_time": "2024-10-15T10:13:13.580Z"
   },
   {
    "duration": 62,
    "start_time": "2024-10-15T10:13:13.592Z"
   },
   {
    "duration": 28,
    "start_time": "2024-10-15T10:13:13.656Z"
   },
   {
    "duration": 90,
    "start_time": "2024-10-15T10:13:13.686Z"
   },
   {
    "duration": 228,
    "start_time": "2024-10-15T10:13:13.778Z"
   },
   {
    "duration": 25,
    "start_time": "2024-10-15T10:13:14.008Z"
   },
   {
    "duration": 2813,
    "start_time": "2024-10-15T10:25:11.257Z"
   },
   {
    "duration": 5,
    "start_time": "2024-10-15T10:25:20.149Z"
   },
   {
    "duration": 49,
    "start_time": "2024-10-15T10:25:38.752Z"
   },
   {
    "duration": 1649,
    "start_time": "2024-10-15T10:25:47.678Z"
   },
   {
    "duration": 1370,
    "start_time": "2024-10-15T10:25:49.329Z"
   },
   {
    "duration": 10,
    "start_time": "2024-10-15T10:25:50.701Z"
   },
   {
    "duration": 33,
    "start_time": "2024-10-15T10:25:50.713Z"
   },
   {
    "duration": 17,
    "start_time": "2024-10-15T10:25:50.748Z"
   },
   {
    "duration": 96,
    "start_time": "2024-10-15T10:25:50.767Z"
   },
   {
    "duration": 232,
    "start_time": "2024-10-15T10:25:50.865Z"
   },
   {
    "duration": 31,
    "start_time": "2024-10-15T10:25:51.098Z"
   },
   {
    "duration": 2226,
    "start_time": "2024-10-15T10:25:51.132Z"
   },
   {
    "duration": 54,
    "start_time": "2024-10-15T10:26:04.890Z"
   },
   {
    "duration": 1524,
    "start_time": "2024-10-15T10:26:20.101Z"
   },
   {
    "duration": 1289,
    "start_time": "2024-10-15T10:26:21.627Z"
   },
   {
    "duration": 10,
    "start_time": "2024-10-15T10:26:22.918Z"
   },
   {
    "duration": 35,
    "start_time": "2024-10-15T10:26:22.929Z"
   },
   {
    "duration": 13,
    "start_time": "2024-10-15T10:26:22.966Z"
   },
   {
    "duration": 96,
    "start_time": "2024-10-15T10:26:22.982Z"
   },
   {
    "duration": 229,
    "start_time": "2024-10-15T10:26:23.080Z"
   },
   {
    "duration": 34,
    "start_time": "2024-10-15T10:26:23.311Z"
   },
   {
    "duration": 2107,
    "start_time": "2024-10-15T10:26:23.347Z"
   },
   {
    "duration": 4,
    "start_time": "2024-10-15T10:26:38.044Z"
   },
   {
    "duration": 3,
    "start_time": "2024-10-15T10:26:46.172Z"
   },
   {
    "duration": 3,
    "start_time": "2024-10-15T10:27:07.449Z"
   },
   {
    "duration": 3,
    "start_time": "2024-10-15T10:27:26.701Z"
   },
   {
    "duration": 805,
    "start_time": "2024-10-15T10:28:06.594Z"
   },
   {
    "duration": 5,
    "start_time": "2024-10-15T10:28:56.580Z"
   },
   {
    "duration": 4,
    "start_time": "2024-10-15T10:28:58.332Z"
   },
   {
    "duration": 1108,
    "start_time": "2024-10-16T06:06:28.675Z"
   },
   {
    "duration": 598,
    "start_time": "2024-10-16T06:06:37.975Z"
   },
   {
    "duration": 3772,
    "start_time": "2024-10-16T06:06:38.575Z"
   },
   {
    "duration": 10,
    "start_time": "2024-10-16T06:06:42.349Z"
   },
   {
    "duration": 32,
    "start_time": "2024-10-16T06:06:42.360Z"
   },
   {
    "duration": 7,
    "start_time": "2024-10-16T06:06:42.394Z"
   },
   {
    "duration": 174,
    "start_time": "2024-10-16T06:06:42.403Z"
   },
   {
    "duration": 230,
    "start_time": "2024-10-16T06:06:42.579Z"
   },
   {
    "duration": 27,
    "start_time": "2024-10-16T06:06:42.811Z"
   },
   {
    "duration": 2400,
    "start_time": "2024-10-16T06:06:42.840Z"
   },
   {
    "duration": 21,
    "start_time": "2024-10-16T06:06:45.241Z"
   },
   {
    "duration": 1198,
    "start_time": "2024-10-16T06:06:50.215Z"
   },
   {
    "duration": 4,
    "start_time": "2024-10-16T06:07:12.876Z"
   },
   {
    "duration": 4,
    "start_time": "2024-10-16T06:07:15.145Z"
   },
   {
    "duration": 35,
    "start_time": "2024-10-16T06:08:33.350Z"
   },
   {
    "duration": 9,
    "start_time": "2024-10-16T06:08:45.553Z"
   },
   {
    "duration": 4,
    "start_time": "2024-10-16T06:08:54.816Z"
   },
   {
    "duration": 34512,
    "start_time": "2024-10-16T06:11:01.812Z"
   },
   {
    "duration": 56,
    "start_time": "2024-10-16T06:11:43.172Z"
   },
   {
    "duration": 3,
    "start_time": "2024-10-16T06:11:53.819Z"
   },
   {
    "duration": 3,
    "start_time": "2024-10-16T06:15:05.925Z"
   },
   {
    "duration": 17625,
    "start_time": "2024-10-16T06:15:17.044Z"
   },
   {
    "duration": 2804,
    "start_time": "2024-10-16T06:15:36.573Z"
   },
   {
    "duration": 3,
    "start_time": "2024-10-16T06:15:44.784Z"
   },
   {
    "duration": 980,
    "start_time": "2024-10-16T06:15:44.789Z"
   },
   {
    "duration": 7,
    "start_time": "2024-10-16T06:15:45.771Z"
   },
   {
    "duration": 38,
    "start_time": "2024-10-16T06:15:45.780Z"
   },
   {
    "duration": 13,
    "start_time": "2024-10-16T06:15:45.820Z"
   },
   {
    "duration": 100,
    "start_time": "2024-10-16T06:15:45.835Z"
   },
   {
    "duration": 228,
    "start_time": "2024-10-16T06:15:45.937Z"
   },
   {
    "duration": 27,
    "start_time": "2024-10-16T06:15:46.167Z"
   },
   {
    "duration": 47,
    "start_time": "2024-10-16T06:16:03.263Z"
   },
   {
    "duration": 1493,
    "start_time": "2024-10-16T06:16:09.013Z"
   },
   {
    "duration": 3792,
    "start_time": "2024-10-16T06:16:10.508Z"
   },
   {
    "duration": 10,
    "start_time": "2024-10-16T06:16:14.302Z"
   },
   {
    "duration": 30,
    "start_time": "2024-10-16T06:16:14.313Z"
   },
   {
    "duration": 11,
    "start_time": "2024-10-16T06:16:14.345Z"
   },
   {
    "duration": 78,
    "start_time": "2024-10-16T06:16:14.358Z"
   },
   {
    "duration": 238,
    "start_time": "2024-10-16T06:16:14.438Z"
   },
   {
    "duration": 25,
    "start_time": "2024-10-16T06:16:14.677Z"
   },
   {
    "duration": 2179,
    "start_time": "2024-10-16T06:16:25.052Z"
   },
   {
    "duration": 4,
    "start_time": "2024-10-16T06:16:28.773Z"
   },
   {
    "duration": 88,
    "start_time": "2024-10-16T06:16:30.532Z"
   },
   {
    "duration": 3,
    "start_time": "2024-10-16T06:16:35.682Z"
   },
   {
    "duration": 17,
    "start_time": "2024-10-16T06:16:36.782Z"
   },
   {
    "duration": 4,
    "start_time": "2024-10-16T06:17:15.944Z"
   },
   {
    "duration": 13,
    "start_time": "2024-10-16T06:17:17.682Z"
   },
   {
    "duration": 4,
    "start_time": "2024-10-16T06:17:39.985Z"
   },
   {
    "duration": 3,
    "start_time": "2024-10-16T06:17:44.510Z"
   },
   {
    "duration": 35096,
    "start_time": "2024-10-16T06:17:45.518Z"
   },
   {
    "duration": 5,
    "start_time": "2024-10-16T06:18:32.751Z"
   },
   {
    "duration": 51,
    "start_time": "2024-10-16T06:20:05.965Z"
   },
   {
    "duration": 3,
    "start_time": "2024-10-16T06:23:24.776Z"
   },
   {
    "duration": 16,
    "start_time": "2024-10-16T06:24:06.890Z"
   },
   {
    "duration": 3,
    "start_time": "2024-10-16T06:24:35.640Z"
   },
   {
    "duration": 4526,
    "start_time": "2024-10-16T06:24:37.472Z"
   },
   {
    "duration": 23,
    "start_time": "2024-10-16T06:24:47.187Z"
   },
   {
    "duration": 9,
    "start_time": "2024-10-16T06:25:13.205Z"
   },
   {
    "duration": 3,
    "start_time": "2024-10-16T06:25:25.067Z"
   },
   {
    "duration": 4152,
    "start_time": "2024-10-16T06:25:27.289Z"
   },
   {
    "duration": 4,
    "start_time": "2024-10-16T06:25:35.857Z"
   },
   {
    "duration": 4,
    "start_time": "2024-10-16T06:26:03.051Z"
   },
   {
    "duration": 3,
    "start_time": "2024-10-16T06:26:11.432Z"
   },
   {
    "duration": 17,
    "start_time": "2024-10-16T06:27:45.164Z"
   },
   {
    "duration": 4163,
    "start_time": "2024-10-16T06:27:46.637Z"
   },
   {
    "duration": 4,
    "start_time": "2024-10-16T06:27:53.069Z"
   },
   {
    "duration": 24,
    "start_time": "2024-10-16T06:29:18.639Z"
   },
   {
    "duration": 4,
    "start_time": "2024-10-16T06:31:58.930Z"
   },
   {
    "duration": 9,
    "start_time": "2024-10-16T06:32:11.216Z"
   },
   {
    "duration": 149,
    "start_time": "2024-10-16T06:32:29.356Z"
   },
   {
    "duration": 5,
    "start_time": "2024-10-16T06:32:37.888Z"
   },
   {
    "duration": 3,
    "start_time": "2024-10-16T06:32:49.395Z"
   },
   {
    "duration": 7223,
    "start_time": "2024-10-16T06:33:08.484Z"
   },
   {
    "duration": 6829,
    "start_time": "2024-10-16T06:33:18.034Z"
   },
   {
    "duration": 8,
    "start_time": "2024-10-16T06:33:26.624Z"
   },
   {
    "duration": 4,
    "start_time": "2024-10-16T06:33:29.518Z"
   },
   {
    "duration": 9,
    "start_time": "2024-10-16T06:33:47.797Z"
   },
   {
    "duration": 24,
    "start_time": "2024-10-16T06:34:38.217Z"
   },
   {
    "duration": 3,
    "start_time": "2024-10-16T06:42:29.986Z"
   },
   {
    "duration": 4079,
    "start_time": "2024-10-16T06:42:31.387Z"
   },
   {
    "duration": 23,
    "start_time": "2024-10-16T06:42:35.468Z"
   },
   {
    "duration": 3,
    "start_time": "2024-10-16T06:42:58.006Z"
   },
   {
    "duration": 4127,
    "start_time": "2024-10-16T06:43:00.032Z"
   },
   {
    "duration": 25,
    "start_time": "2024-10-16T06:43:04.161Z"
   },
   {
    "duration": 10,
    "start_time": "2024-10-16T06:44:41.661Z"
   },
   {
    "duration": 9,
    "start_time": "2024-10-16T06:45:13.323Z"
   },
   {
    "duration": 3,
    "start_time": "2024-10-16T06:45:29.952Z"
   },
   {
    "duration": 46,
    "start_time": "2024-10-16T06:45:43.085Z"
   },
   {
    "duration": 1517,
    "start_time": "2024-10-16T06:45:56.483Z"
   },
   {
    "duration": 3768,
    "start_time": "2024-10-16T06:45:58.002Z"
   },
   {
    "duration": 11,
    "start_time": "2024-10-16T06:46:01.771Z"
   },
   {
    "duration": 55,
    "start_time": "2024-10-16T06:46:01.784Z"
   },
   {
    "duration": 8,
    "start_time": "2024-10-16T06:46:01.841Z"
   },
   {
    "duration": 85,
    "start_time": "2024-10-16T06:46:01.850Z"
   },
   {
    "duration": 226,
    "start_time": "2024-10-16T06:46:01.936Z"
   },
   {
    "duration": 26,
    "start_time": "2024-10-16T06:46:02.164Z"
   },
   {
    "duration": 2305,
    "start_time": "2024-10-16T06:46:02.191Z"
   },
   {
    "duration": 10,
    "start_time": "2024-10-16T06:46:04.498Z"
   },
   {
    "duration": 19,
    "start_time": "2024-10-16T06:46:04.509Z"
   },
   {
    "duration": 35687,
    "start_time": "2024-10-16T06:46:04.529Z"
   },
   {
    "duration": 4,
    "start_time": "2024-10-16T06:46:40.218Z"
   },
   {
    "duration": 12,
    "start_time": "2024-10-16T06:46:40.224Z"
   },
   {
    "duration": 4100,
    "start_time": "2024-10-16T06:46:40.237Z"
   },
   {
    "duration": 59,
    "start_time": "2024-10-16T06:46:44.338Z"
   },
   {
    "duration": 49,
    "start_time": "2024-10-16T06:46:54.872Z"
   },
   {
    "duration": 1511,
    "start_time": "2024-10-16T06:47:23.502Z"
   },
   {
    "duration": 3800,
    "start_time": "2024-10-16T06:47:25.015Z"
   },
   {
    "duration": 10,
    "start_time": "2024-10-16T06:47:28.817Z"
   },
   {
    "duration": 31,
    "start_time": "2024-10-16T06:47:28.829Z"
   },
   {
    "duration": 8,
    "start_time": "2024-10-16T06:47:28.862Z"
   },
   {
    "duration": 99,
    "start_time": "2024-10-16T06:47:28.871Z"
   },
   {
    "duration": 230,
    "start_time": "2024-10-16T06:47:28.972Z"
   },
   {
    "duration": 28,
    "start_time": "2024-10-16T06:47:29.204Z"
   },
   {
    "duration": 2188,
    "start_time": "2024-10-16T06:47:29.233Z"
   },
   {
    "duration": 77,
    "start_time": "2024-10-16T06:47:31.422Z"
   },
   {
    "duration": 17,
    "start_time": "2024-10-16T06:47:31.500Z"
   },
   {
    "duration": 35429,
    "start_time": "2024-10-16T06:47:31.519Z"
   },
   {
    "duration": 4,
    "start_time": "2024-10-16T06:48:06.952Z"
   },
   {
    "duration": 20,
    "start_time": "2024-10-16T06:48:06.958Z"
   },
   {
    "duration": 4013,
    "start_time": "2024-10-16T06:48:06.980Z"
   },
   {
    "duration": 48,
    "start_time": "2024-10-16T06:49:19.938Z"
   },
   {
    "duration": 1567,
    "start_time": "2024-10-16T06:49:24.045Z"
   },
   {
    "duration": 3772,
    "start_time": "2024-10-16T06:49:25.614Z"
   },
   {
    "duration": 10,
    "start_time": "2024-10-16T06:49:29.387Z"
   },
   {
    "duration": 60,
    "start_time": "2024-10-16T06:49:29.398Z"
   },
   {
    "duration": 53,
    "start_time": "2024-10-16T06:49:29.460Z"
   },
   {
    "duration": 83,
    "start_time": "2024-10-16T06:49:29.514Z"
   },
   {
    "duration": 229,
    "start_time": "2024-10-16T06:49:29.598Z"
   },
   {
    "duration": 30,
    "start_time": "2024-10-16T06:49:29.828Z"
   },
   {
    "duration": 2147,
    "start_time": "2024-10-16T06:49:29.860Z"
   },
   {
    "duration": 15,
    "start_time": "2024-10-16T06:49:32.009Z"
   },
   {
    "duration": 8,
    "start_time": "2024-10-16T06:49:32.025Z"
   },
   {
    "duration": 35538,
    "start_time": "2024-10-16T06:49:32.035Z"
   },
   {
    "duration": 4,
    "start_time": "2024-10-16T06:50:07.575Z"
   },
   {
    "duration": 70,
    "start_time": "2024-10-16T06:50:07.581Z"
   },
   {
    "duration": 4177,
    "start_time": "2024-10-16T06:50:07.652Z"
   },
   {
    "duration": 1755,
    "start_time": "2024-10-16T13:37:58.442Z"
   },
   {
    "duration": 3850,
    "start_time": "2024-10-16T13:38:00.199Z"
   },
   {
    "duration": 10,
    "start_time": "2024-10-16T13:38:04.051Z"
   },
   {
    "duration": 34,
    "start_time": "2024-10-16T13:38:04.063Z"
   },
   {
    "duration": 9,
    "start_time": "2024-10-16T13:38:04.099Z"
   },
   {
    "duration": 113,
    "start_time": "2024-10-16T13:38:04.110Z"
   },
   {
    "duration": 246,
    "start_time": "2024-10-16T13:38:04.225Z"
   },
   {
    "duration": 37,
    "start_time": "2024-10-16T13:38:04.473Z"
   },
   {
    "duration": 2299,
    "start_time": "2024-10-16T13:38:04.512Z"
   },
   {
    "duration": 14,
    "start_time": "2024-10-16T13:38:06.814Z"
   },
   {
    "duration": 6,
    "start_time": "2024-10-16T13:38:06.829Z"
   },
   {
    "duration": 35798,
    "start_time": "2024-10-16T13:38:06.837Z"
   },
   {
    "duration": 3,
    "start_time": "2024-10-16T13:38:42.637Z"
   },
   {
    "duration": 3,
    "start_time": "2024-10-16T13:38:42.642Z"
   },
   {
    "duration": 221,
    "start_time": "2024-10-16T13:38:52.272Z"
   },
   {
    "duration": 3,
    "start_time": "2024-10-16T13:38:53.640Z"
   },
   {
    "duration": 124,
    "start_time": "2024-10-16T13:38:57.832Z"
   },
   {
    "duration": 4,
    "start_time": "2024-10-16T13:39:20.893Z"
   },
   {
    "duration": 7,
    "start_time": "2024-10-16T13:39:35.669Z"
   },
   {
    "duration": 5,
    "start_time": "2024-10-16T13:39:51.243Z"
   },
   {
    "duration": 3,
    "start_time": "2024-10-16T13:39:54.049Z"
   },
   {
    "duration": 12,
    "start_time": "2024-10-16T13:39:55.518Z"
   },
   {
    "duration": 3,
    "start_time": "2024-10-16T13:41:35.934Z"
   },
   {
    "duration": 13,
    "start_time": "2024-10-16T13:41:39.386Z"
   },
   {
    "duration": 9,
    "start_time": "2024-10-16T13:41:49.771Z"
   },
   {
    "duration": 14,
    "start_time": "2024-10-16T13:41:53.793Z"
   },
   {
    "duration": 12,
    "start_time": "2024-10-16T13:42:03.227Z"
   },
   {
    "duration": 12,
    "start_time": "2024-10-16T13:42:12.648Z"
   },
   {
    "duration": 3,
    "start_time": "2024-10-16T13:43:09.828Z"
   },
   {
    "duration": 3,
    "start_time": "2024-10-16T13:43:38.654Z"
   },
   {
    "duration": 9,
    "start_time": "2024-10-16T13:43:40.402Z"
   },
   {
    "duration": 3,
    "start_time": "2024-10-16T13:43:43.825Z"
   },
   {
    "duration": 12,
    "start_time": "2024-10-16T13:43:48.742Z"
   },
   {
    "duration": 4082,
    "start_time": "2024-10-16T13:44:19.141Z"
   },
   {
    "duration": 3,
    "start_time": "2024-10-16T13:44:26.852Z"
   },
   {
    "duration": 7359,
    "start_time": "2024-10-16T13:44:29.323Z"
   },
   {
    "duration": 4,
    "start_time": "2024-10-16T13:44:39.056Z"
   },
   {
    "duration": 4,
    "start_time": "2024-10-16T13:44:47.927Z"
   },
   {
    "duration": 4,
    "start_time": "2024-10-16T13:51:58.582Z"
   },
   {
    "duration": 48,
    "start_time": "2024-10-17T08:05:45.067Z"
   },
   {
    "duration": 1735,
    "start_time": "2024-10-17T08:05:49.003Z"
   },
   {
    "duration": 1284,
    "start_time": "2024-10-17T08:05:50.740Z"
   },
   {
    "duration": 11,
    "start_time": "2024-10-17T08:05:52.026Z"
   },
   {
    "duration": 39,
    "start_time": "2024-10-17T08:05:52.038Z"
   },
   {
    "duration": 22,
    "start_time": "2024-10-17T08:05:52.079Z"
   },
   {
    "duration": 115,
    "start_time": "2024-10-17T08:05:52.103Z"
   },
   {
    "duration": 250,
    "start_time": "2024-10-17T08:05:52.220Z"
   },
   {
    "duration": 28,
    "start_time": "2024-10-17T08:05:52.472Z"
   },
   {
    "duration": 60,
    "start_time": "2024-10-17T08:06:40.320Z"
   },
   {
    "duration": 1624,
    "start_time": "2024-10-17T08:06:45.976Z"
   },
   {
    "duration": 1420,
    "start_time": "2024-10-17T08:06:47.602Z"
   },
   {
    "duration": 10,
    "start_time": "2024-10-17T08:06:49.024Z"
   },
   {
    "duration": 36,
    "start_time": "2024-10-17T08:06:49.036Z"
   },
   {
    "duration": 12,
    "start_time": "2024-10-17T08:06:49.075Z"
   },
   {
    "duration": 109,
    "start_time": "2024-10-17T08:06:49.089Z"
   },
   {
    "duration": 239,
    "start_time": "2024-10-17T08:06:49.200Z"
   },
   {
    "duration": 35,
    "start_time": "2024-10-17T08:06:49.440Z"
   },
   {
    "duration": 2297,
    "start_time": "2024-10-17T08:06:58.843Z"
   },
   {
    "duration": 6,
    "start_time": "2024-10-17T08:07:12.151Z"
   },
   {
    "duration": 92,
    "start_time": "2024-10-17T08:09:45.043Z"
   },
   {
    "duration": 22,
    "start_time": "2024-10-17T08:09:51.396Z"
   },
   {
    "duration": 6,
    "start_time": "2024-10-17T08:10:00.221Z"
   },
   {
    "duration": 23,
    "start_time": "2024-10-17T08:10:08.383Z"
   },
   {
    "duration": 5,
    "start_time": "2024-10-17T08:10:09.127Z"
   },
   {
    "duration": 8,
    "start_time": "2024-10-17T08:10:36.115Z"
   },
   {
    "duration": 4,
    "start_time": "2024-10-17T08:24:18.489Z"
   },
   {
    "duration": 480,
    "start_time": "2024-10-17T08:25:06.832Z"
   },
   {
    "duration": 6,
    "start_time": "2024-10-17T08:26:47.117Z"
   },
   {
    "duration": 1233,
    "start_time": "2024-10-17T08:26:55.244Z"
   },
   {
    "duration": 8,
    "start_time": "2024-10-17T08:27:02.675Z"
   },
   {
    "duration": 7,
    "start_time": "2024-10-17T08:27:10.991Z"
   },
   {
    "duration": 3,
    "start_time": "2024-10-17T08:27:54.722Z"
   },
   {
    "duration": 68,
    "start_time": "2024-10-17T08:28:35.248Z"
   },
   {
    "duration": 1379,
    "start_time": "2024-10-17T08:28:41.605Z"
   },
   {
    "duration": 3,
    "start_time": "2024-10-17T08:29:34.790Z"
   },
   {
    "duration": 3,
    "start_time": "2024-10-17T08:29:43.853Z"
   },
   {
    "duration": 3,
    "start_time": "2024-10-17T08:29:59.334Z"
   },
   {
    "duration": 3,
    "start_time": "2024-10-17T08:30:17.039Z"
   },
   {
    "duration": 4,
    "start_time": "2024-10-17T08:30:24.406Z"
   },
   {
    "duration": 3,
    "start_time": "2024-10-17T08:38:21.314Z"
   },
   {
    "duration": 170428,
    "start_time": "2024-10-17T08:38:22.704Z"
   },
   {
    "duration": 2022,
    "start_time": "2024-10-17T16:06:04.115Z"
   },
   {
    "duration": 1576,
    "start_time": "2024-10-17T16:06:06.141Z"
   },
   {
    "duration": 18,
    "start_time": "2024-10-17T16:06:07.719Z"
   },
   {
    "duration": 38,
    "start_time": "2024-10-17T16:06:07.747Z"
   },
   {
    "duration": 12,
    "start_time": "2024-10-17T16:06:07.787Z"
   },
   {
    "duration": 114,
    "start_time": "2024-10-17T16:06:07.801Z"
   },
   {
    "duration": 269,
    "start_time": "2024-10-17T16:06:07.917Z"
   },
   {
    "duration": 39,
    "start_time": "2024-10-17T16:06:08.188Z"
   },
   {
    "duration": 32,
    "start_time": "2024-10-17T16:06:08.242Z"
   },
   {
    "duration": 70,
    "start_time": "2024-10-17T16:06:08.275Z"
   },
   {
    "duration": 13223,
    "start_time": "2024-10-17T16:06:08.347Z"
   },
   {
    "duration": 0,
    "start_time": "2024-10-17T16:06:21.572Z"
   },
   {
    "duration": 0,
    "start_time": "2024-10-17T16:06:21.573Z"
   },
   {
    "duration": 0,
    "start_time": "2024-10-17T16:06:21.575Z"
   },
   {
    "duration": 0,
    "start_time": "2024-10-17T16:06:21.577Z"
   },
   {
    "duration": 0,
    "start_time": "2024-10-17T16:06:21.578Z"
   },
   {
    "duration": 0,
    "start_time": "2024-10-17T16:06:21.580Z"
   },
   {
    "duration": 0,
    "start_time": "2024-10-17T16:06:21.581Z"
   },
   {
    "duration": 0,
    "start_time": "2024-10-17T16:06:21.583Z"
   },
   {
    "duration": 208882,
    "start_time": "2024-10-17T16:06:27.009Z"
   },
   {
    "duration": 10,
    "start_time": "2024-10-17T16:11:03.862Z"
   },
   {
    "duration": 9,
    "start_time": "2024-10-17T16:11:11.834Z"
   },
   {
    "duration": 5,
    "start_time": "2024-10-17T16:12:06.860Z"
   },
   {
    "duration": 3,
    "start_time": "2024-10-17T16:12:22.949Z"
   },
   {
    "duration": 3,
    "start_time": "2024-10-17T16:12:26.371Z"
   },
   {
    "duration": 3,
    "start_time": "2024-10-17T16:12:30.604Z"
   },
   {
    "duration": 3,
    "start_time": "2024-10-17T16:12:32.665Z"
   },
   {
    "duration": 4,
    "start_time": "2024-10-17T16:12:34.460Z"
   },
   {
    "duration": 8,
    "start_time": "2024-10-17T16:12:36.230Z"
   },
   {
    "duration": 4,
    "start_time": "2024-10-17T16:13:02.791Z"
   },
   {
    "duration": 5,
    "start_time": "2024-10-17T16:13:38.038Z"
   },
   {
    "duration": 10,
    "start_time": "2024-10-17T16:13:50.636Z"
   },
   {
    "duration": 5,
    "start_time": "2024-10-17T16:14:06.271Z"
   },
   {
    "duration": 6,
    "start_time": "2024-10-17T16:15:38.644Z"
   },
   {
    "duration": 6,
    "start_time": "2024-10-17T16:17:17.003Z"
   },
   {
    "duration": 75,
    "start_time": "2024-10-17T16:17:25.703Z"
   },
   {
    "duration": 7,
    "start_time": "2024-10-17T16:17:32.438Z"
   },
   {
    "duration": 6,
    "start_time": "2024-10-17T16:17:39.385Z"
   },
   {
    "duration": 64,
    "start_time": "2024-10-17T16:22:03.345Z"
   },
   {
    "duration": 93,
    "start_time": "2024-10-17T16:22:08.202Z"
   },
   {
    "duration": 5,
    "start_time": "2024-10-17T16:22:13.995Z"
   },
   {
    "duration": 0,
    "start_time": "2024-10-17T16:22:28.364Z"
   },
   {
    "duration": 368,
    "start_time": "2024-10-17T16:22:29.944Z"
   },
   {
    "duration": 10,
    "start_time": "2024-10-17T16:22:43.885Z"
   },
   {
    "duration": 17,
    "start_time": "2024-10-17T16:22:50.926Z"
   },
   {
    "duration": 321,
    "start_time": "2024-10-17T16:23:06.795Z"
   },
   {
    "duration": 297,
    "start_time": "2024-10-17T16:23:16.325Z"
   },
   {
    "duration": 35,
    "start_time": "2024-10-17T16:23:42.504Z"
   },
   {
    "duration": 7,
    "start_time": "2024-10-17T16:23:45.699Z"
   },
   {
    "duration": 67,
    "start_time": "2024-10-17T16:24:33.270Z"
   },
   {
    "duration": 3,
    "start_time": "2024-10-17T16:24:46.659Z"
   },
   {
    "duration": 39662,
    "start_time": "2024-10-17T16:24:50.731Z"
   },
   {
    "duration": 6,
    "start_time": "2024-10-17T16:25:32.414Z"
   },
   {
    "duration": 3,
    "start_time": "2024-10-17T16:25:45.414Z"
   },
   {
    "duration": 8,
    "start_time": "2024-10-17T16:25:53.839Z"
   },
   {
    "duration": 5,
    "start_time": "2024-10-17T16:26:59.090Z"
   },
   {
    "duration": 5,
    "start_time": "2024-10-17T16:27:02.512Z"
   },
   {
    "duration": 8,
    "start_time": "2024-10-17T16:27:27.574Z"
   },
   {
    "duration": 15,
    "start_time": "2024-10-17T16:27:38.112Z"
   },
   {
    "duration": 5,
    "start_time": "2024-10-17T16:27:56.923Z"
   },
   {
    "duration": 6,
    "start_time": "2024-10-17T16:28:22.534Z"
   },
   {
    "duration": 6,
    "start_time": "2024-10-17T16:28:49.176Z"
   },
   {
    "duration": 5,
    "start_time": "2024-10-17T16:29:21.730Z"
   },
   {
    "duration": 5,
    "start_time": "2024-10-17T16:29:48.497Z"
   },
   {
    "duration": 5,
    "start_time": "2024-10-17T16:30:08.146Z"
   },
   {
    "duration": 5,
    "start_time": "2024-10-17T16:30:40.751Z"
   },
   {
    "duration": 5,
    "start_time": "2024-10-17T16:30:42.325Z"
   },
   {
    "duration": 6,
    "start_time": "2024-10-17T16:30:44.045Z"
   },
   {
    "duration": 4,
    "start_time": "2024-10-17T16:30:48.610Z"
   },
   {
    "duration": 37636,
    "start_time": "2024-10-17T16:30:49.867Z"
   },
   {
    "duration": 0,
    "start_time": "2024-10-17T16:31:27.505Z"
   },
   {
    "duration": 4,
    "start_time": "2024-10-17T16:31:30.068Z"
   },
   {
    "duration": 40086,
    "start_time": "2024-10-17T16:31:33.002Z"
   },
   {
    "duration": 6,
    "start_time": "2024-10-17T16:34:39.522Z"
   },
   {
    "duration": 79,
    "start_time": "2024-10-17T16:34:56.308Z"
   },
   {
    "duration": 252594,
    "start_time": "2024-10-17T16:34:58.759Z"
   },
   {
    "duration": 6,
    "start_time": "2024-10-17T16:39:15.657Z"
   },
   {
    "duration": 4,
    "start_time": "2024-10-17T16:39:55.858Z"
   },
   {
    "duration": 40275,
    "start_time": "2024-10-17T16:39:57.956Z"
   },
   {
    "duration": 6,
    "start_time": "2024-10-17T16:41:15.538Z"
   },
   {
    "duration": 30,
    "start_time": "2024-10-17T16:41:24.831Z"
   },
   {
    "duration": 4,
    "start_time": "2024-10-17T16:41:26.088Z"
   },
   {
    "duration": 5,
    "start_time": "2024-10-17T16:41:28.908Z"
   },
   {
    "duration": 25,
    "start_time": "2024-10-17T16:43:32.732Z"
   },
   {
    "duration": 6,
    "start_time": "2024-10-17T16:43:38.884Z"
   },
   {
    "duration": 22,
    "start_time": "2024-10-17T16:43:49.804Z"
   },
   {
    "duration": 5,
    "start_time": "2024-10-17T16:43:52.237Z"
   },
   {
    "duration": 2646,
    "start_time": "2024-10-17T16:44:04.184Z"
   },
   {
    "duration": 4,
    "start_time": "2024-10-17T16:44:07.545Z"
   },
   {
    "duration": 65,
    "start_time": "2024-10-17T16:44:35.738Z"
   },
   {
    "duration": 1570,
    "start_time": "2024-10-17T16:44:39.873Z"
   },
   {
    "duration": 1427,
    "start_time": "2024-10-17T16:44:41.445Z"
   },
   {
    "duration": 10,
    "start_time": "2024-10-17T16:44:42.874Z"
   },
   {
    "duration": 46,
    "start_time": "2024-10-17T16:44:42.886Z"
   },
   {
    "duration": 9,
    "start_time": "2024-10-17T16:44:42.935Z"
   },
   {
    "duration": 98,
    "start_time": "2024-10-17T16:44:42.946Z"
   },
   {
    "duration": 245,
    "start_time": "2024-10-17T16:44:43.046Z"
   },
   {
    "duration": 41,
    "start_time": "2024-10-17T16:44:43.293Z"
   },
   {
    "duration": 3,
    "start_time": "2024-10-17T16:44:43.336Z"
   },
   {
    "duration": 41574,
    "start_time": "2024-10-17T16:44:43.341Z"
   },
   {
    "duration": 21,
    "start_time": "2024-10-17T16:45:24.917Z"
   },
   {
    "duration": 12,
    "start_time": "2024-10-17T16:52:29.857Z"
   },
   {
    "duration": 104,
    "start_time": "2024-10-17T16:54:37.831Z"
   },
   {
    "duration": 3,
    "start_time": "2024-10-17T16:55:04.130Z"
   },
   {
    "duration": 71,
    "start_time": "2024-10-17T16:55:14.197Z"
   },
   {
    "duration": 6,
    "start_time": "2024-10-17T16:55:18.434Z"
   },
   {
    "duration": 5,
    "start_time": "2024-10-17T16:55:24.398Z"
   },
   {
    "duration": 4,
    "start_time": "2024-10-17T16:55:50.319Z"
   },
   {
    "duration": 37736,
    "start_time": "2024-10-17T16:55:52.262Z"
   },
   {
    "duration": 5,
    "start_time": "2024-10-17T16:56:44.561Z"
   },
   {
    "duration": 4,
    "start_time": "2024-10-17T16:57:04.521Z"
   },
   {
    "duration": 37742,
    "start_time": "2024-10-17T16:57:06.149Z"
   },
   {
    "duration": 5,
    "start_time": "2024-10-17T16:57:43.893Z"
   },
   {
    "duration": 264,
    "start_time": "2024-10-17T16:57:43.900Z"
   },
   {
    "duration": 3,
    "start_time": "2024-10-17T16:57:44.167Z"
   },
   {
    "duration": 4,
    "start_time": "2024-10-17T16:58:27.797Z"
   },
   {
    "duration": 3,
    "start_time": "2024-10-17T16:58:29.413Z"
   },
   {
    "duration": 64,
    "start_time": "2024-10-17T16:58:30.613Z"
   },
   {
    "duration": 5,
    "start_time": "2024-10-17T16:58:36.527Z"
   },
   {
    "duration": 6,
    "start_time": "2024-10-17T16:58:58.960Z"
   },
   {
    "duration": 7250,
    "start_time": "2024-10-17T17:00:25.488Z"
   },
   {
    "duration": 4,
    "start_time": "2024-10-17T17:00:47.201Z"
   },
   {
    "duration": 2,
    "start_time": "2024-10-17T17:00:59.079Z"
   },
   {
    "duration": 4,
    "start_time": "2024-10-17T17:01:23.326Z"
   },
   {
    "duration": 1759,
    "start_time": "2024-10-17T17:03:29.108Z"
   },
   {
    "duration": 1429,
    "start_time": "2024-10-17T17:03:30.869Z"
   },
   {
    "duration": 11,
    "start_time": "2024-10-17T17:03:32.300Z"
   },
   {
    "duration": 71,
    "start_time": "2024-10-17T17:03:32.312Z"
   },
   {
    "duration": 12,
    "start_time": "2024-10-17T17:03:32.385Z"
   },
   {
    "duration": 128,
    "start_time": "2024-10-17T17:03:32.399Z"
   },
   {
    "duration": 252,
    "start_time": "2024-10-17T17:03:32.529Z"
   },
   {
    "duration": 27,
    "start_time": "2024-10-17T17:03:32.782Z"
   },
   {
    "duration": 29,
    "start_time": "2024-10-17T17:03:32.811Z"
   },
   {
    "duration": 38894,
    "start_time": "2024-10-17T17:03:32.843Z"
   },
   {
    "duration": 6,
    "start_time": "2024-10-17T17:04:11.738Z"
   },
   {
    "duration": 227,
    "start_time": "2024-10-17T17:04:11.746Z"
   },
   {
    "duration": 3,
    "start_time": "2024-10-17T17:04:11.974Z"
   },
   {
    "duration": 51,
    "start_time": "2024-10-17T17:04:29.222Z"
   },
   {
    "duration": 1576,
    "start_time": "2024-10-17T17:04:39.843Z"
   },
   {
    "duration": 1390,
    "start_time": "2024-10-17T17:04:41.421Z"
   },
   {
    "duration": 11,
    "start_time": "2024-10-17T17:04:42.812Z"
   },
   {
    "duration": 34,
    "start_time": "2024-10-17T17:04:42.824Z"
   },
   {
    "duration": 8,
    "start_time": "2024-10-17T17:04:42.860Z"
   },
   {
    "duration": 111,
    "start_time": "2024-10-17T17:04:42.870Z"
   },
   {
    "duration": 240,
    "start_time": "2024-10-17T17:04:42.983Z"
   },
   {
    "duration": 28,
    "start_time": "2024-10-17T17:04:43.224Z"
   },
   {
    "duration": 5,
    "start_time": "2024-10-17T17:04:43.253Z"
   },
   {
    "duration": 38157,
    "start_time": "2024-10-17T17:04:43.259Z"
   },
   {
    "duration": 6,
    "start_time": "2024-10-17T17:05:21.417Z"
   },
   {
    "duration": 50,
    "start_time": "2024-10-17T17:05:21.424Z"
   },
   {
    "duration": 23,
    "start_time": "2024-10-17T17:05:21.476Z"
   },
   {
    "duration": 70,
    "start_time": "2024-10-17T17:05:21.502Z"
   },
   {
    "duration": 3,
    "start_time": "2024-10-17T17:05:21.574Z"
   },
   {
    "duration": 7495,
    "start_time": "2024-10-17T17:05:21.579Z"
   },
   {
    "duration": 4,
    "start_time": "2024-10-17T17:05:29.076Z"
   },
   {
    "duration": 3,
    "start_time": "2024-10-17T17:05:33.743Z"
   },
   {
    "duration": 4,
    "start_time": "2024-10-17T17:05:40.006Z"
   },
   {
    "duration": 7579,
    "start_time": "2024-10-17T17:05:41.734Z"
   },
   {
    "duration": 6,
    "start_time": "2024-10-17T17:05:49.315Z"
   },
   {
    "duration": 6,
    "start_time": "2024-10-17T17:08:04.037Z"
   },
   {
    "duration": 83,
    "start_time": "2024-10-17T17:12:53.530Z"
   },
   {
    "duration": 96,
    "start_time": "2024-10-17T17:13:44.825Z"
   },
   {
    "duration": 7264,
    "start_time": "2024-10-17T17:18:31.450Z"
   },
   {
    "duration": 11,
    "start_time": "2024-10-17T17:18:39.281Z"
   },
   {
    "duration": 3151,
    "start_time": "2024-10-17T17:18:53.801Z"
   },
   {
    "duration": 0,
    "start_time": "2024-10-17T17:18:56.954Z"
   },
   {
    "duration": 0,
    "start_time": "2024-10-17T17:18:56.955Z"
   },
   {
    "duration": 0,
    "start_time": "2024-10-17T17:18:56.956Z"
   },
   {
    "duration": 0,
    "start_time": "2024-10-17T17:18:56.957Z"
   },
   {
    "duration": 0,
    "start_time": "2024-10-17T17:18:56.959Z"
   },
   {
    "duration": 0,
    "start_time": "2024-10-17T17:18:56.960Z"
   },
   {
    "duration": 0,
    "start_time": "2024-10-17T17:18:56.961Z"
   },
   {
    "duration": 0,
    "start_time": "2024-10-17T17:18:56.962Z"
   },
   {
    "duration": 0,
    "start_time": "2024-10-17T17:18:56.963Z"
   },
   {
    "duration": 0,
    "start_time": "2024-10-17T17:18:56.964Z"
   },
   {
    "duration": 0,
    "start_time": "2024-10-17T17:18:56.965Z"
   },
   {
    "duration": 0,
    "start_time": "2024-10-17T17:18:56.967Z"
   },
   {
    "duration": 0,
    "start_time": "2024-10-17T17:18:56.968Z"
   },
   {
    "duration": 0,
    "start_time": "2024-10-17T17:18:56.969Z"
   },
   {
    "duration": 0,
    "start_time": "2024-10-17T17:18:56.971Z"
   },
   {
    "duration": 0,
    "start_time": "2024-10-17T17:18:56.972Z"
   },
   {
    "duration": 0,
    "start_time": "2024-10-17T17:18:56.973Z"
   },
   {
    "duration": 5,
    "start_time": "2024-10-17T17:29:37.883Z"
   },
   {
    "duration": 12,
    "start_time": "2024-10-17T17:29:40.596Z"
   },
   {
    "duration": 3169,
    "start_time": "2024-10-17T17:29:46.855Z"
   },
   {
    "duration": 11,
    "start_time": "2024-10-17T17:29:54.343Z"
   },
   {
    "duration": 14,
    "start_time": "2024-10-17T17:30:43.665Z"
   },
   {
    "duration": 14,
    "start_time": "2024-10-17T17:30:56.831Z"
   },
   {
    "duration": 14,
    "start_time": "2024-10-17T17:31:29.596Z"
   },
   {
    "duration": 1626,
    "start_time": "2024-10-17T17:32:01.467Z"
   },
   {
    "duration": 0,
    "start_time": "2024-10-17T17:32:03.096Z"
   },
   {
    "duration": 0,
    "start_time": "2024-10-17T17:32:03.097Z"
   },
   {
    "duration": 0,
    "start_time": "2024-10-17T17:32:03.098Z"
   },
   {
    "duration": 0,
    "start_time": "2024-10-17T17:32:03.099Z"
   },
   {
    "duration": 0,
    "start_time": "2024-10-17T17:32:03.101Z"
   },
   {
    "duration": 0,
    "start_time": "2024-10-17T17:32:03.101Z"
   },
   {
    "duration": 0,
    "start_time": "2024-10-17T17:32:03.102Z"
   },
   {
    "duration": 0,
    "start_time": "2024-10-17T17:32:03.103Z"
   },
   {
    "duration": 0,
    "start_time": "2024-10-17T17:32:03.104Z"
   },
   {
    "duration": 0,
    "start_time": "2024-10-17T17:32:03.106Z"
   },
   {
    "duration": 0,
    "start_time": "2024-10-17T17:32:03.107Z"
   },
   {
    "duration": 0,
    "start_time": "2024-10-17T17:32:03.121Z"
   },
   {
    "duration": 0,
    "start_time": "2024-10-17T17:32:03.122Z"
   },
   {
    "duration": 0,
    "start_time": "2024-10-17T17:32:03.123Z"
   },
   {
    "duration": 0,
    "start_time": "2024-10-17T17:32:03.124Z"
   },
   {
    "duration": 0,
    "start_time": "2024-10-17T17:32:03.125Z"
   },
   {
    "duration": 0,
    "start_time": "2024-10-17T17:32:03.128Z"
   },
   {
    "duration": 0,
    "start_time": "2024-10-17T17:32:03.128Z"
   },
   {
    "duration": 0,
    "start_time": "2024-10-17T17:32:03.130Z"
   },
   {
    "duration": 107,
    "start_time": "2024-10-17T17:32:36.483Z"
   },
   {
    "duration": 5,
    "start_time": "2024-10-17T17:32:39.351Z"
   },
   {
    "duration": 8,
    "start_time": "2024-10-17T17:32:46.537Z"
   },
   {
    "duration": 960,
    "start_time": "2024-10-17T17:32:46.547Z"
   },
   {
    "duration": 15,
    "start_time": "2024-10-17T17:32:47.509Z"
   },
   {
    "duration": 32,
    "start_time": "2024-10-17T17:32:47.526Z"
   },
   {
    "duration": 20,
    "start_time": "2024-10-17T17:32:47.561Z"
   },
   {
    "duration": 105,
    "start_time": "2024-10-17T17:32:47.583Z"
   },
   {
    "duration": 246,
    "start_time": "2024-10-17T17:32:47.690Z"
   },
   {
    "duration": 32,
    "start_time": "2024-10-17T17:32:47.937Z"
   },
   {
    "duration": 11,
    "start_time": "2024-10-17T17:32:47.971Z"
   },
   {
    "duration": 38489,
    "start_time": "2024-10-17T17:32:47.984Z"
   },
   {
    "duration": 6,
    "start_time": "2024-10-17T17:33:26.474Z"
   },
   {
    "duration": 17,
    "start_time": "2024-10-17T17:33:26.481Z"
   },
   {
    "duration": 16,
    "start_time": "2024-10-17T17:33:26.500Z"
   },
   {
    "duration": 70,
    "start_time": "2024-10-17T17:33:26.518Z"
   },
   {
    "duration": 4,
    "start_time": "2024-10-17T17:33:26.589Z"
   },
   {
    "duration": 42,
    "start_time": "2024-10-17T17:33:26.594Z"
   },
   {
    "duration": 0,
    "start_time": "2024-10-17T17:33:26.637Z"
   },
   {
    "duration": 0,
    "start_time": "2024-10-17T17:33:26.638Z"
   },
   {
    "duration": 0,
    "start_time": "2024-10-17T17:33:26.639Z"
   },
   {
    "duration": 0,
    "start_time": "2024-10-17T17:33:26.640Z"
   },
   {
    "duration": 3,
    "start_time": "2024-10-17T17:34:33.273Z"
   },
   {
    "duration": 3,
    "start_time": "2024-10-17T17:34:38.738Z"
   },
   {
    "duration": 78,
    "start_time": "2024-10-17T17:34:39.668Z"
   },
   {
    "duration": 4,
    "start_time": "2024-10-17T17:34:41.314Z"
   },
   {
    "duration": 7859,
    "start_time": "2024-10-17T17:34:42.436Z"
   },
   {
    "duration": 3,
    "start_time": "2024-10-17T17:34:50.297Z"
   },
   {
    "duration": 7,
    "start_time": "2024-10-17T17:34:55.715Z"
   },
   {
    "duration": 4,
    "start_time": "2024-10-17T17:35:01.340Z"
   },
   {
    "duration": 5,
    "start_time": "2024-10-17T17:35:05.098Z"
   },
   {
    "duration": 5,
    "start_time": "2024-10-17T19:53:13.541Z"
   },
   {
    "duration": 5,
    "start_time": "2024-10-17T19:53:27.528Z"
   },
   {
    "duration": 21,
    "start_time": "2024-10-17T19:54:14.400Z"
   },
   {
    "duration": 6,
    "start_time": "2024-10-17T19:54:40.359Z"
   },
   {
    "duration": 18,
    "start_time": "2024-10-17T19:54:47.711Z"
   },
   {
    "duration": 5,
    "start_time": "2024-10-17T19:55:18.470Z"
   },
   {
    "duration": 513,
    "start_time": "2024-10-17T19:55:21.472Z"
   },
   {
    "duration": 4,
    "start_time": "2024-10-17T19:56:28.333Z"
   },
   {
    "duration": 174376,
    "start_time": "2024-10-17T19:56:30.658Z"
   },
   {
    "duration": 4,
    "start_time": "2024-10-17T20:09:06.148Z"
   },
   {
    "duration": 6,
    "start_time": "2024-10-17T20:09:20.328Z"
   },
   {
    "duration": 4,
    "start_time": "2024-10-17T20:09:34.523Z"
   },
   {
    "duration": 1948461,
    "start_time": "2024-10-17T20:10:24.055Z"
   },
   {
    "duration": 0,
    "start_time": "2024-10-17T20:42:52.518Z"
   },
   {
    "duration": 0,
    "start_time": "2024-10-17T20:42:52.520Z"
   },
   {
    "duration": 0,
    "start_time": "2024-10-17T20:42:52.521Z"
   },
   {
    "duration": 0,
    "start_time": "2024-10-17T20:42:52.522Z"
   },
   {
    "duration": 16584,
    "start_time": "2024-10-17T20:43:16.063Z"
   },
   {
    "duration": 0,
    "start_time": "2024-10-17T20:43:32.650Z"
   },
   {
    "duration": 13,
    "start_time": "2024-10-17T20:44:27.159Z"
   },
   {
    "duration": 6,
    "start_time": "2024-10-17T20:45:26.112Z"
   },
   {
    "duration": 942,
    "start_time": "2024-10-17T20:45:26.120Z"
   },
   {
    "duration": 8,
    "start_time": "2024-10-17T20:45:27.063Z"
   },
   {
    "duration": 32,
    "start_time": "2024-10-17T20:45:27.073Z"
   },
   {
    "duration": 7,
    "start_time": "2024-10-17T20:45:27.120Z"
   },
   {
    "duration": 93,
    "start_time": "2024-10-17T20:45:27.129Z"
   },
   {
    "duration": 229,
    "start_time": "2024-10-17T20:45:27.224Z"
   },
   {
    "duration": 28,
    "start_time": "2024-10-17T20:45:27.454Z"
   },
   {
    "duration": 4,
    "start_time": "2024-10-17T20:45:27.483Z"
   },
   {
    "duration": 37284,
    "start_time": "2024-10-17T20:45:27.490Z"
   },
   {
    "duration": 5,
    "start_time": "2024-10-17T20:46:04.776Z"
   },
   {
    "duration": 105,
    "start_time": "2024-10-17T20:46:04.783Z"
   },
   {
    "duration": 36,
    "start_time": "2024-10-17T20:46:04.889Z"
   },
   {
    "duration": 93,
    "start_time": "2024-10-17T20:46:04.927Z"
   },
   {
    "duration": 5,
    "start_time": "2024-10-17T20:46:05.022Z"
   },
   {
    "duration": 7521,
    "start_time": "2024-10-17T20:46:05.029Z"
   },
   {
    "duration": 4,
    "start_time": "2024-10-17T20:46:12.552Z"
   },
   {
    "duration": 23,
    "start_time": "2024-10-17T20:46:12.557Z"
   },
   {
    "duration": 0,
    "start_time": "2024-10-17T20:46:12.583Z"
   },
   {
    "duration": 0,
    "start_time": "2024-10-17T20:46:12.584Z"
   },
   {
    "duration": 0,
    "start_time": "2024-10-17T20:46:12.585Z"
   },
   {
    "duration": 0,
    "start_time": "2024-10-17T20:46:12.586Z"
   },
   {
    "duration": 0,
    "start_time": "2024-10-17T20:46:12.587Z"
   },
   {
    "duration": 0,
    "start_time": "2024-10-17T20:46:12.588Z"
   },
   {
    "duration": 0,
    "start_time": "2024-10-17T20:46:12.590Z"
   },
   {
    "duration": 12,
    "start_time": "2024-10-17T20:47:41.845Z"
   },
   {
    "duration": 4,
    "start_time": "2024-10-17T20:47:50.761Z"
   },
   {
    "duration": 4,
    "start_time": "2024-10-17T20:47:57.102Z"
   },
   {
    "duration": 12,
    "start_time": "2024-10-17T20:47:57.108Z"
   },
   {
    "duration": 194519,
    "start_time": "2024-10-17T20:47:57.122Z"
   },
   {
    "duration": 2938878,
    "start_time": "2024-10-17T20:51:11.642Z"
   },
   {
    "duration": 52,
    "start_time": "2024-10-18T05:02:33.699Z"
   },
   {
    "duration": 1813,
    "start_time": "2024-10-18T06:34:46.728Z"
   },
   {
    "duration": 3720,
    "start_time": "2024-10-18T06:34:48.543Z"
   },
   {
    "duration": 82,
    "start_time": "2024-10-18T06:34:52.264Z"
   },
   {
    "duration": 32,
    "start_time": "2024-10-18T06:34:52.348Z"
   },
   {
    "duration": 43,
    "start_time": "2024-10-18T06:34:52.382Z"
   },
   {
    "duration": 89,
    "start_time": "2024-10-18T06:34:55.380Z"
   },
   {
    "duration": 82,
    "start_time": "2024-10-18T06:36:26.400Z"
   },
   {
    "duration": 52,
    "start_time": "2024-10-18T06:40:09.336Z"
   },
   {
    "duration": 271,
    "start_time": "2024-10-18T06:40:15.789Z"
   },
   {
    "duration": 105,
    "start_time": "2024-10-18T06:40:23.318Z"
   },
   {
    "duration": 137,
    "start_time": "2024-10-18T06:41:00.422Z"
   },
   {
    "duration": 104,
    "start_time": "2024-10-18T06:41:09.905Z"
   },
   {
    "duration": 112,
    "start_time": "2024-10-18T06:41:40.754Z"
   },
   {
    "duration": 204,
    "start_time": "2024-10-18T06:43:30.198Z"
   },
   {
    "duration": 43,
    "start_time": "2024-10-18T06:44:22.733Z"
   },
   {
    "duration": 48,
    "start_time": "2024-10-18T06:44:37.958Z"
   },
   {
    "duration": 206,
    "start_time": "2024-10-18T06:46:45.605Z"
   },
   {
    "duration": 216,
    "start_time": "2024-10-18T06:48:19.088Z"
   },
   {
    "duration": 4,
    "start_time": "2024-10-18T06:48:46.088Z"
   },
   {
    "duration": 213,
    "start_time": "2024-10-18T06:48:54.886Z"
   },
   {
    "duration": 213,
    "start_time": "2024-10-18T06:49:01.938Z"
   },
   {
    "duration": 205,
    "start_time": "2024-10-18T06:49:06.708Z"
   },
   {
    "duration": 219,
    "start_time": "2024-10-18T06:49:12.558Z"
   },
   {
    "duration": 212,
    "start_time": "2024-10-18T06:49:22.248Z"
   },
   {
    "duration": 67,
    "start_time": "2024-10-18T06:50:13.932Z"
   },
   {
    "duration": 204,
    "start_time": "2024-10-18T06:50:17.322Z"
   },
   {
    "duration": 220,
    "start_time": "2024-10-18T06:50:35.278Z"
   },
   {
    "duration": 114,
    "start_time": "2024-10-18T06:51:26.640Z"
   },
   {
    "duration": 113,
    "start_time": "2024-10-18T06:53:04.821Z"
   },
   {
    "duration": 123,
    "start_time": "2024-10-18T06:53:14.235Z"
   },
   {
    "duration": 132,
    "start_time": "2024-10-18T06:53:21.748Z"
   },
   {
    "duration": 1218,
    "start_time": "2024-10-18T07:01:35.397Z"
   },
   {
    "duration": 5,
    "start_time": "2024-10-18T07:01:40.957Z"
   },
   {
    "duration": 960,
    "start_time": "2024-10-18T07:01:40.964Z"
   },
   {
    "duration": 8,
    "start_time": "2024-10-18T07:01:41.926Z"
   },
   {
    "duration": 44,
    "start_time": "2024-10-18T07:01:41.936Z"
   },
   {
    "duration": 71,
    "start_time": "2024-10-18T07:01:41.983Z"
   },
   {
    "duration": 137,
    "start_time": "2024-10-18T07:01:42.056Z"
   },
   {
    "duration": 248,
    "start_time": "2024-10-18T07:01:42.195Z"
   },
   {
    "duration": 31,
    "start_time": "2024-10-18T07:01:42.446Z"
   },
   {
    "duration": 39,
    "start_time": "2024-10-18T07:01:42.479Z"
   },
   {
    "duration": 38345,
    "start_time": "2024-10-18T07:01:42.520Z"
   },
   {
    "duration": 6,
    "start_time": "2024-10-18T07:02:28.303Z"
   },
   {
    "duration": 4,
    "start_time": "2024-10-18T07:08:21.319Z"
   },
   {
    "duration": 4,
    "start_time": "2024-10-18T07:08:23.373Z"
   },
   {
    "duration": 1917,
    "start_time": "2024-10-18T08:38:05.756Z"
   },
   {
    "duration": 1295,
    "start_time": "2024-10-18T08:38:07.676Z"
   },
   {
    "duration": 61,
    "start_time": "2024-10-18T08:38:08.983Z"
   },
   {
    "duration": 38,
    "start_time": "2024-10-18T08:38:09.045Z"
   },
   {
    "duration": 8,
    "start_time": "2024-10-18T08:38:09.085Z"
   },
   {
    "duration": 130,
    "start_time": "2024-10-18T08:38:09.094Z"
   },
   {
    "duration": 257,
    "start_time": "2024-10-18T08:38:09.226Z"
   },
   {
    "duration": 20,
    "start_time": "2024-10-18T08:38:09.485Z"
   },
   {
    "duration": 7,
    "start_time": "2024-10-18T08:38:09.506Z"
   },
   {
    "duration": 36327,
    "start_time": "2024-10-18T08:38:09.515Z"
   },
   {
    "duration": 5,
    "start_time": "2024-10-18T08:38:45.843Z"
   },
   {
    "duration": 26,
    "start_time": "2024-10-18T08:38:45.849Z"
   },
   {
    "duration": 14,
    "start_time": "2024-10-18T08:38:45.876Z"
   },
   {
    "duration": 53,
    "start_time": "2024-10-18T08:38:45.893Z"
   },
   {
    "duration": 3,
    "start_time": "2024-10-18T08:38:45.948Z"
   },
   {
    "duration": 6696,
    "start_time": "2024-10-18T08:38:45.952Z"
   },
   {
    "duration": 3,
    "start_time": "2024-10-18T08:38:52.649Z"
   },
   {
    "duration": 74,
    "start_time": "2024-10-18T08:38:52.669Z"
   },
   {
    "duration": 39,
    "start_time": "2024-10-18T08:38:52.744Z"
   },
   {
    "duration": 4,
    "start_time": "2024-10-18T08:38:52.788Z"
   },
   {
    "duration": 254513,
    "start_time": "2024-10-18T08:38:56.469Z"
   },
   {
    "duration": 31,
    "start_time": "2024-10-18T08:43:47.204Z"
   },
   {
    "duration": 4,
    "start_time": "2024-10-18T08:48:07.889Z"
   },
   {
    "duration": 4,
    "start_time": "2024-10-18T08:48:12.931Z"
   },
   {
    "duration": 28996,
    "start_time": "2024-10-18T08:48:19.909Z"
   },
   {
    "duration": 0,
    "start_time": "2024-10-18T08:48:48.906Z"
   },
   {
    "duration": 3,
    "start_time": "2024-10-18T08:49:29.110Z"
   },
   {
    "duration": 3,
    "start_time": "2024-10-18T08:50:05.251Z"
   },
   {
    "duration": 5,
    "start_time": "2024-10-18T08:51:06.180Z"
   },
   {
    "duration": 7,
    "start_time": "2024-10-18T08:51:08.078Z"
   },
   {
    "duration": 11756,
    "start_time": "2024-10-18T08:51:10.687Z"
   },
   {
    "duration": 0,
    "start_time": "2024-10-18T08:51:22.445Z"
   },
   {
    "duration": 2910142,
    "start_time": "2024-10-18T08:51:24.400Z"
   },
   {
    "duration": 4,
    "start_time": "2024-10-18T09:39:54.544Z"
   },
   {
    "duration": 38,
    "start_time": "2024-10-18T09:39:54.549Z"
   },
   {
    "duration": 3,
    "start_time": "2024-10-18T09:39:54.589Z"
   },
   {
    "duration": 4,
    "start_time": "2024-10-18T09:48:57.747Z"
   },
   {
    "duration": 4,
    "start_time": "2024-10-18T09:48:59.646Z"
   },
   {
    "duration": 4,
    "start_time": "2024-10-18T09:49:01.081Z"
   },
   {
    "duration": 4,
    "start_time": "2024-10-18T09:49:05.334Z"
   },
   {
    "duration": 10,
    "start_time": "2024-10-18T09:49:48.944Z"
   },
   {
    "duration": 3,
    "start_time": "2024-10-18T09:50:03.447Z"
   },
   {
    "duration": 3,
    "start_time": "2024-10-18T09:50:04.826Z"
   },
   {
    "duration": 241320,
    "start_time": "2024-10-18T09:50:09.099Z"
   },
   {
    "duration": 1880,
    "start_time": "2024-10-21T09:57:23.762Z"
   },
   {
    "duration": 1203,
    "start_time": "2024-10-21T09:57:25.645Z"
   },
   {
    "duration": 10,
    "start_time": "2024-10-21T09:57:26.850Z"
   },
   {
    "duration": 36,
    "start_time": "2024-10-21T09:57:26.862Z"
   },
   {
    "duration": 9,
    "start_time": "2024-10-21T09:57:26.900Z"
   },
   {
    "duration": 209,
    "start_time": "2024-10-21T09:57:26.910Z"
   },
   {
    "duration": 4,
    "start_time": "2024-10-21T09:57:27.121Z"
   },
   {
    "duration": 36358,
    "start_time": "2024-10-21T09:57:27.127Z"
   },
   {
    "duration": 4,
    "start_time": "2024-10-21T09:58:03.487Z"
   },
   {
    "duration": 76,
    "start_time": "2024-10-21T09:58:03.493Z"
   },
   {
    "duration": 27,
    "start_time": "2024-10-21T09:58:03.571Z"
   },
   {
    "duration": 70,
    "start_time": "2024-10-21T09:58:03.600Z"
   },
   {
    "duration": 3,
    "start_time": "2024-10-21T09:58:03.672Z"
   },
   {
    "duration": 6972,
    "start_time": "2024-10-21T09:58:03.678Z"
   },
   {
    "duration": 4,
    "start_time": "2024-10-21T09:58:10.651Z"
   },
   {
    "duration": 12,
    "start_time": "2024-10-21T09:58:10.656Z"
   },
   {
    "duration": 11,
    "start_time": "2024-10-21T09:58:10.670Z"
   },
   {
    "duration": 9,
    "start_time": "2024-10-21T09:58:10.683Z"
   },
   {
    "duration": 267782,
    "start_time": "2024-10-21T09:58:10.693Z"
   },
   {
    "duration": 4,
    "start_time": "2024-10-21T10:02:38.477Z"
   },
   {
    "duration": 20,
    "start_time": "2024-10-21T10:02:38.482Z"
   },
   {
    "duration": 1582,
    "start_time": "2024-10-21T10:44:51.746Z"
   },
   {
    "duration": 910,
    "start_time": "2024-10-21T10:44:53.330Z"
   },
   {
    "duration": 10,
    "start_time": "2024-10-21T10:44:54.242Z"
   },
   {
    "duration": 53,
    "start_time": "2024-10-21T10:44:54.253Z"
   },
   {
    "duration": 33,
    "start_time": "2024-10-21T10:44:54.309Z"
   },
   {
    "duration": 208,
    "start_time": "2024-10-21T10:44:54.343Z"
   },
   {
    "duration": 3,
    "start_time": "2024-10-21T10:44:54.553Z"
   },
   {
    "duration": 36537,
    "start_time": "2024-10-21T10:44:54.558Z"
   },
   {
    "duration": 5,
    "start_time": "2024-10-21T10:45:31.097Z"
   },
   {
    "duration": 62,
    "start_time": "2024-10-21T10:45:31.103Z"
   },
   {
    "duration": 31,
    "start_time": "2024-10-21T10:45:31.166Z"
   },
   {
    "duration": 135,
    "start_time": "2024-10-21T10:45:31.199Z"
   },
   {
    "duration": 264,
    "start_time": "2024-10-21T10:45:50.602Z"
   },
   {
    "duration": 350,
    "start_time": "2024-10-21T10:46:03.667Z"
   },
   {
    "duration": 5,
    "start_time": "2024-10-21T11:11:57.772Z"
   },
   {
    "duration": 4,
    "start_time": "2024-10-21T11:13:01.555Z"
   },
   {
    "duration": 4,
    "start_time": "2024-10-21T11:24:28.133Z"
   },
   {
    "duration": 25,
    "start_time": "2024-10-21T11:24:30.820Z"
   },
   {
    "duration": 8,
    "start_time": "2024-10-21T11:24:51.902Z"
   },
   {
    "duration": 5,
    "start_time": "2024-10-21T11:24:54.876Z"
   },
   {
    "duration": 5,
    "start_time": "2024-10-21T11:24:59.883Z"
   },
   {
    "duration": 4,
    "start_time": "2024-10-21T11:25:04.595Z"
   },
   {
    "duration": 4,
    "start_time": "2024-10-21T11:25:06.515Z"
   },
   {
    "duration": 13,
    "start_time": "2024-10-21T11:25:09.011Z"
   },
   {
    "duration": 3,
    "start_time": "2024-10-21T11:25:24.708Z"
   },
   {
    "duration": 13,
    "start_time": "2024-10-21T11:25:26.580Z"
   },
   {
    "duration": 86,
    "start_time": "2024-10-21T11:25:43.275Z"
   },
   {
    "duration": 3,
    "start_time": "2024-10-21T11:25:45.435Z"
   },
   {
    "duration": 3,
    "start_time": "2024-10-21T11:25:45.820Z"
   },
   {
    "duration": 79,
    "start_time": "2024-10-21T11:25:46.119Z"
   },
   {
    "duration": 3,
    "start_time": "2024-10-21T11:25:47.873Z"
   },
   {
    "duration": 7318,
    "start_time": "2024-10-21T11:25:49.293Z"
   },
   {
    "duration": 3,
    "start_time": "2024-10-21T11:27:07.614Z"
   },
   {
    "duration": 3,
    "start_time": "2024-10-21T11:27:13.813Z"
   },
   {
    "duration": 4,
    "start_time": "2024-10-21T11:27:15.913Z"
   },
   {
    "duration": 101863,
    "start_time": "2024-10-21T11:27:17.406Z"
   },
   {
    "duration": 3,
    "start_time": "2024-10-21T11:29:42.845Z"
   },
   {
    "duration": 4,
    "start_time": "2024-10-21T11:29:45.236Z"
   },
   {
    "duration": 60,
    "start_time": "2024-10-21T13:18:34.657Z"
   },
   {
    "duration": 1762,
    "start_time": "2024-10-21T13:18:38.928Z"
   },
   {
    "duration": 3664,
    "start_time": "2024-10-21T13:18:40.692Z"
   },
   {
    "duration": 11,
    "start_time": "2024-10-21T13:18:44.357Z"
   },
   {
    "duration": 48,
    "start_time": "2024-10-21T13:18:44.369Z"
   },
   {
    "duration": 41,
    "start_time": "2024-10-21T13:18:44.418Z"
   },
   {
    "duration": 201,
    "start_time": "2024-10-21T13:18:44.461Z"
   },
   {
    "duration": 53,
    "start_time": "2024-10-21T13:18:44.664Z"
   },
   {
    "duration": 0,
    "start_time": "2024-10-21T13:18:44.719Z"
   },
   {
    "duration": 0,
    "start_time": "2024-10-21T13:18:44.720Z"
   },
   {
    "duration": 0,
    "start_time": "2024-10-21T13:18:44.721Z"
   },
   {
    "duration": 0,
    "start_time": "2024-10-21T13:18:44.722Z"
   },
   {
    "duration": 0,
    "start_time": "2024-10-21T13:18:44.724Z"
   },
   {
    "duration": 0,
    "start_time": "2024-10-21T13:18:44.725Z"
   },
   {
    "duration": 0,
    "start_time": "2024-10-21T13:18:44.726Z"
   },
   {
    "duration": 0,
    "start_time": "2024-10-21T13:18:44.726Z"
   },
   {
    "duration": 1,
    "start_time": "2024-10-21T13:18:44.727Z"
   },
   {
    "duration": 0,
    "start_time": "2024-10-21T13:18:44.729Z"
   },
   {
    "duration": 0,
    "start_time": "2024-10-21T13:18:44.730Z"
   },
   {
    "duration": 0,
    "start_time": "2024-10-21T13:18:44.731Z"
   },
   {
    "duration": 3,
    "start_time": "2024-10-21T13:18:59.376Z"
   },
   {
    "duration": 35815,
    "start_time": "2024-10-21T13:19:02.328Z"
   },
   {
    "duration": 5,
    "start_time": "2024-10-21T13:19:38.145Z"
   },
   {
    "duration": 4,
    "start_time": "2024-10-21T13:19:56.703Z"
   },
   {
    "duration": 3,
    "start_time": "2024-10-21T13:19:58.326Z"
   },
   {
    "duration": 66,
    "start_time": "2024-10-21T13:20:00.038Z"
   },
   {
    "duration": 3,
    "start_time": "2024-10-21T13:20:01.606Z"
   },
   {
    "duration": 6786,
    "start_time": "2024-10-21T13:20:03.006Z"
   },
   {
    "duration": 3,
    "start_time": "2024-10-21T13:20:23.997Z"
   },
   {
    "duration": 3,
    "start_time": "2024-10-21T13:20:35.674Z"
   },
   {
    "duration": 4,
    "start_time": "2024-10-21T13:20:41.565Z"
   },
   {
    "duration": 100505,
    "start_time": "2024-10-21T13:20:44.226Z"
   },
   {
    "duration": 4,
    "start_time": "2024-10-21T13:24:38.656Z"
   },
   {
    "duration": 3,
    "start_time": "2024-10-21T13:24:40.384Z"
   },
   {
    "duration": 1302396,
    "start_time": "2024-10-21T13:26:27.141Z"
   },
   {
    "duration": 0,
    "start_time": "2024-10-21T13:48:09.540Z"
   },
   {
    "duration": 0,
    "start_time": "2024-10-21T13:48:09.541Z"
   },
   {
    "duration": 6,
    "start_time": "2024-10-21T13:48:17.629Z"
   },
   {
    "duration": 973,
    "start_time": "2024-10-21T13:48:17.637Z"
   },
   {
    "duration": 11,
    "start_time": "2024-10-21T13:48:18.612Z"
   },
   {
    "duration": 37,
    "start_time": "2024-10-21T13:48:18.624Z"
   },
   {
    "duration": 12,
    "start_time": "2024-10-21T13:48:18.663Z"
   },
   {
    "duration": 123,
    "start_time": "2024-10-21T13:48:18.676Z"
   },
   {
    "duration": 861,
    "start_time": "2024-10-21T13:48:18.801Z"
   },
   {
    "duration": 0,
    "start_time": "2024-10-21T13:48:19.665Z"
   },
   {
    "duration": 0,
    "start_time": "2024-10-21T13:48:19.666Z"
   },
   {
    "duration": 0,
    "start_time": "2024-10-21T13:48:19.667Z"
   },
   {
    "duration": 0,
    "start_time": "2024-10-21T13:48:19.669Z"
   },
   {
    "duration": 0,
    "start_time": "2024-10-21T13:48:19.670Z"
   },
   {
    "duration": 0,
    "start_time": "2024-10-21T13:48:19.671Z"
   },
   {
    "duration": 0,
    "start_time": "2024-10-21T13:48:19.672Z"
   },
   {
    "duration": 0,
    "start_time": "2024-10-21T13:48:19.673Z"
   },
   {
    "duration": 0,
    "start_time": "2024-10-21T13:48:19.674Z"
   },
   {
    "duration": 0,
    "start_time": "2024-10-21T13:48:19.676Z"
   },
   {
    "duration": 0,
    "start_time": "2024-10-21T13:48:19.677Z"
   },
   {
    "duration": 0,
    "start_time": "2024-10-21T13:48:19.678Z"
   },
   {
    "duration": 0,
    "start_time": "2024-10-21T13:48:19.679Z"
   },
   {
    "duration": 0,
    "start_time": "2024-10-21T13:48:19.680Z"
   },
   {
    "duration": 0,
    "start_time": "2024-10-21T13:48:19.681Z"
   },
   {
    "duration": 0,
    "start_time": "2024-10-21T13:48:19.682Z"
   },
   {
    "duration": 0,
    "start_time": "2024-10-21T13:48:19.683Z"
   },
   {
    "duration": 0,
    "start_time": "2024-10-21T13:48:19.684Z"
   },
   {
    "duration": 0,
    "start_time": "2024-10-21T13:48:19.685Z"
   },
   {
    "duration": 0,
    "start_time": "2024-10-21T13:48:19.686Z"
   },
   {
    "duration": 0,
    "start_time": "2024-10-21T13:48:19.687Z"
   },
   {
    "duration": 0,
    "start_time": "2024-10-21T13:48:19.688Z"
   },
   {
    "duration": 0,
    "start_time": "2024-10-21T13:48:19.689Z"
   },
   {
    "duration": 0,
    "start_time": "2024-10-21T13:48:19.690Z"
   },
   {
    "duration": 0,
    "start_time": "2024-10-21T13:48:19.691Z"
   },
   {
    "duration": 0,
    "start_time": "2024-10-21T13:48:19.692Z"
   },
   {
    "duration": 0,
    "start_time": "2024-10-21T13:48:19.693Z"
   },
   {
    "duration": 0,
    "start_time": "2024-10-21T13:48:19.694Z"
   },
   {
    "duration": 0,
    "start_time": "2024-10-21T13:48:19.695Z"
   },
   {
    "duration": 0,
    "start_time": "2024-10-21T13:48:19.721Z"
   },
   {
    "duration": 7,
    "start_time": "2024-10-21T13:48:26.153Z"
   },
   {
    "duration": 916,
    "start_time": "2024-10-21T13:48:32.477Z"
   },
   {
    "duration": 6,
    "start_time": "2024-10-21T13:48:33.913Z"
   },
   {
    "duration": 32,
    "start_time": "2024-10-21T13:48:35.974Z"
   },
   {
    "duration": 6,
    "start_time": "2024-10-21T13:48:38.627Z"
   },
   {
    "duration": 114,
    "start_time": "2024-10-21T13:48:40.423Z"
   },
   {
    "duration": 20,
    "start_time": "2024-10-21T13:48:45.605Z"
   },
   {
    "duration": 20,
    "start_time": "2024-10-21T13:49:33.685Z"
   },
   {
    "duration": 18,
    "start_time": "2024-10-21T13:49:56.590Z"
   },
   {
    "duration": 3844,
    "start_time": "2024-10-21T13:50:44.859Z"
   },
   {
    "duration": 756,
    "start_time": "2024-10-21T13:51:05.517Z"
   },
   {
    "duration": 8,
    "start_time": "2024-10-21T13:51:18.514Z"
   },
   {
    "duration": 881,
    "start_time": "2024-10-21T13:51:18.524Z"
   },
   {
    "duration": 15,
    "start_time": "2024-10-21T13:51:19.406Z"
   },
   {
    "duration": 33,
    "start_time": "2024-10-21T13:51:19.423Z"
   },
   {
    "duration": 8,
    "start_time": "2024-10-21T13:51:19.459Z"
   },
   {
    "duration": 154,
    "start_time": "2024-10-21T13:51:19.469Z"
   },
   {
    "duration": 4,
    "start_time": "2024-10-21T13:51:25.025Z"
   },
   {
    "duration": 88171,
    "start_time": "2024-10-21T13:51:29.574Z"
   },
   {
    "duration": 3978,
    "start_time": "2024-10-21T13:53:21.331Z"
   },
   {
    "duration": 891,
    "start_time": "2024-10-21T13:53:25.311Z"
   },
   {
    "duration": 19,
    "start_time": "2024-10-21T13:53:26.204Z"
   },
   {
    "duration": 47,
    "start_time": "2024-10-21T13:53:26.225Z"
   },
   {
    "duration": 28,
    "start_time": "2024-10-21T13:53:26.274Z"
   },
   {
    "duration": 158,
    "start_time": "2024-10-21T13:53:26.304Z"
   },
   {
    "duration": 3,
    "start_time": "2024-10-21T13:53:29.888Z"
   },
   {
    "duration": 4651,
    "start_time": "2024-10-22T06:13:31.470Z"
   },
   {
    "duration": 3795,
    "start_time": "2024-10-22T06:13:36.123Z"
   },
   {
    "duration": 11,
    "start_time": "2024-10-22T06:13:39.920Z"
   },
   {
    "duration": 35,
    "start_time": "2024-10-22T06:13:39.932Z"
   },
   {
    "duration": 7,
    "start_time": "2024-10-22T06:13:39.969Z"
   },
   {
    "duration": 159,
    "start_time": "2024-10-22T06:13:39.978Z"
   },
   {
    "duration": 4,
    "start_time": "2024-10-22T06:13:45.450Z"
   },
   {
    "duration": 637701,
    "start_time": "2024-10-22T06:13:50.612Z"
   },
   {
    "duration": 14,
    "start_time": "2024-10-22T06:24:46.818Z"
   },
   {
    "duration": 1026,
    "start_time": "2024-10-22T06:24:46.860Z"
   },
   {
    "duration": 6,
    "start_time": "2024-10-22T06:24:47.888Z"
   },
   {
    "duration": 63,
    "start_time": "2024-10-22T06:24:47.895Z"
   },
   {
    "duration": 6,
    "start_time": "2024-10-22T06:24:47.959Z"
   },
   {
    "duration": 135,
    "start_time": "2024-10-22T06:24:47.967Z"
   },
   {
    "duration": 4,
    "start_time": "2024-10-22T06:24:48.103Z"
   },
   {
    "duration": 129,
    "start_time": "2024-10-22T06:24:48.108Z"
   },
   {
    "duration": 50,
    "start_time": "2024-10-22T06:24:53.508Z"
   },
   {
    "duration": 1920,
    "start_time": "2024-10-22T06:25:35.657Z"
   },
   {
    "duration": 4460,
    "start_time": "2024-10-22T06:26:18.793Z"
   },
   {
    "duration": 996,
    "start_time": "2024-10-22T06:26:23.257Z"
   },
   {
    "duration": 11,
    "start_time": "2024-10-22T06:26:24.255Z"
   },
   {
    "duration": 109,
    "start_time": "2024-10-22T06:26:24.267Z"
   },
   {
    "duration": 7,
    "start_time": "2024-10-22T06:26:24.378Z"
   },
   {
    "duration": 161,
    "start_time": "2024-10-22T06:26:24.387Z"
   },
   {
    "duration": 4,
    "start_time": "2024-10-22T06:26:24.550Z"
   },
   {
    "duration": 9,
    "start_time": "2024-10-22T06:26:24.555Z"
   },
   {
    "duration": 2258,
    "start_time": "2024-10-22T06:26:26.153Z"
   },
   {
    "duration": 293,
    "start_time": "2024-10-22T06:26:59.214Z"
   },
   {
    "duration": 64,
    "start_time": "2024-10-22T06:27:42.301Z"
   },
   {
    "duration": 4,
    "start_time": "2024-10-22T06:29:31.848Z"
   },
   {
    "duration": 5,
    "start_time": "2024-10-22T06:30:18.509Z"
   },
   {
    "duration": 21,
    "start_time": "2024-10-22T06:30:18.520Z"
   },
   {
    "duration": 1006,
    "start_time": "2024-10-22T06:30:18.543Z"
   },
   {
    "duration": 7,
    "start_time": "2024-10-22T06:30:19.550Z"
   },
   {
    "duration": 40,
    "start_time": "2024-10-22T06:30:19.558Z"
   },
   {
    "duration": 12,
    "start_time": "2024-10-22T06:30:19.600Z"
   },
   {
    "duration": 144,
    "start_time": "2024-10-22T06:30:19.613Z"
   },
   {
    "duration": 4,
    "start_time": "2024-10-22T06:30:19.759Z"
   },
   {
    "duration": 42526,
    "start_time": "2024-10-22T06:30:19.765Z"
   },
   {
    "duration": 5,
    "start_time": "2024-10-22T06:31:02.293Z"
   },
   {
    "duration": 6,
    "start_time": "2024-10-22T06:31:07.366Z"
   },
   {
    "duration": 67,
    "start_time": "2024-10-22T06:31:36.949Z"
   },
   {
    "duration": 4,
    "start_time": "2024-10-22T06:31:39.050Z"
   },
   {
    "duration": 4,
    "start_time": "2024-10-22T06:31:41.270Z"
   },
   {
    "duration": 2,
    "start_time": "2024-10-22T06:31:41.959Z"
   },
   {
    "duration": 8211,
    "start_time": "2024-10-22T06:31:42.800Z"
   },
   {
    "duration": 16,
    "start_time": "2024-10-22T06:31:51.013Z"
   },
   {
    "duration": 14,
    "start_time": "2024-10-22T06:32:35.029Z"
   },
   {
    "duration": 3,
    "start_time": "2024-10-22T06:32:42.514Z"
   },
   {
    "duration": 126665,
    "start_time": "2024-10-22T06:32:45.198Z"
   },
   {
    "duration": 10,
    "start_time": "2024-10-22T06:34:51.925Z"
   },
   {
    "duration": 18,
    "start_time": "2024-10-22T06:34:51.937Z"
   },
   {
    "duration": 4793,
    "start_time": "2024-10-22T10:07:19.291Z"
   },
   {
    "duration": 3898,
    "start_time": "2024-10-22T10:07:26.442Z"
   },
   {
    "duration": 15,
    "start_time": "2024-10-22T10:07:30.341Z"
   },
   {
    "duration": 142,
    "start_time": "2024-10-22T10:07:30.357Z"
   },
   {
    "duration": 13,
    "start_time": "2024-10-22T10:07:32.884Z"
   },
   {
    "duration": 143,
    "start_time": "2024-10-22T10:07:35.852Z"
   },
   {
    "duration": 4,
    "start_time": "2024-10-22T10:07:40.640Z"
   },
   {
    "duration": 39345,
    "start_time": "2024-10-22T10:07:42.578Z"
   },
   {
    "duration": 5,
    "start_time": "2024-10-22T10:08:23.984Z"
   },
   {
    "duration": 77,
    "start_time": "2024-10-22T10:08:26.328Z"
   },
   {
    "duration": 3,
    "start_time": "2024-10-22T10:08:27.574Z"
   },
   {
    "duration": 4,
    "start_time": "2024-10-22T10:08:29.250Z"
   },
   {
    "duration": 3,
    "start_time": "2024-10-22T10:08:30.322Z"
   },
   {
    "duration": 7715,
    "start_time": "2024-10-22T10:08:31.543Z"
   },
   {
    "duration": 4,
    "start_time": "2024-10-22T10:08:39.260Z"
   },
   {
    "duration": 347,
    "start_time": "2024-10-22T10:09:00.667Z"
   },
   {
    "duration": 6,
    "start_time": "2024-10-22T10:09:31.740Z"
   },
   {
    "duration": 3,
    "start_time": "2024-10-22T10:09:40.983Z"
   },
   {
    "duration": 4,
    "start_time": "2024-10-22T10:09:42.641Z"
   },
   {
    "duration": 235976,
    "start_time": "2024-10-22T10:09:47.138Z"
   },
   {
    "duration": 4,
    "start_time": "2024-10-22T10:13:43.116Z"
   },
   {
    "duration": 15,
    "start_time": "2024-10-22T10:13:43.122Z"
   },
   {
    "duration": 22,
    "start_time": "2024-10-22T11:05:09.822Z"
   },
   {
    "duration": 10,
    "start_time": "2024-10-22T11:05:34.648Z"
   },
   {
    "duration": 3,
    "start_time": "2024-10-22T11:05:49.656Z"
   },
   {
    "duration": 387901,
    "start_time": "2024-10-22T11:05:58.744Z"
   },
   {
    "duration": 4,
    "start_time": "2024-10-22T11:12:34.581Z"
   },
   {
    "duration": 4,
    "start_time": "2024-10-22T11:12:35.915Z"
   },
   {
    "duration": 3,
    "start_time": "2024-10-22T11:18:06.089Z"
   },
   {
    "duration": 396641,
    "start_time": "2024-10-22T11:18:07.780Z"
   },
   {
    "duration": 3,
    "start_time": "2024-10-22T11:24:44.424Z"
   },
   {
    "duration": 22,
    "start_time": "2024-10-22T11:24:44.429Z"
   },
   {
    "duration": 6,
    "start_time": "2024-10-22T11:27:57.085Z"
   },
   {
    "duration": 6,
    "start_time": "2024-10-22T11:28:13.674Z"
   },
   {
    "duration": 4,
    "start_time": "2024-10-22T11:28:31.871Z"
   },
   {
    "duration": 23,
    "start_time": "2024-10-22T11:29:13.979Z"
   },
   {
    "duration": 17,
    "start_time": "2024-10-22T11:30:54.125Z"
   },
   {
    "duration": 28,
    "start_time": "2024-10-22T11:31:02.290Z"
   },
   {
    "duration": 30,
    "start_time": "2024-10-22T11:31:40.716Z"
   },
   {
    "duration": 21,
    "start_time": "2024-10-22T11:33:47.270Z"
   },
   {
    "duration": 152,
    "start_time": "2024-10-22T11:33:51.556Z"
   },
   {
    "duration": 30,
    "start_time": "2024-10-22T12:19:28.911Z"
   },
   {
    "duration": 17,
    "start_time": "2024-10-22T12:19:39.318Z"
   },
   {
    "duration": 105563,
    "start_time": "2024-10-22T12:19:41.955Z"
   },
   {
    "duration": 4,
    "start_time": "2024-10-22T12:21:27.520Z"
   },
   {
    "duration": 9,
    "start_time": "2024-10-22T12:21:27.526Z"
   },
   {
    "duration": 4,
    "start_time": "2024-10-22T12:21:42.665Z"
   },
   {
    "duration": 13,
    "start_time": "2024-10-22T12:21:44.600Z"
   },
   {
    "duration": 4,
    "start_time": "2024-10-22T12:21:58.429Z"
   },
   {
    "duration": 9,
    "start_time": "2024-10-22T12:22:00.212Z"
   },
   {
    "duration": 49,
    "start_time": "2024-10-22T13:32:44.181Z"
   },
   {
    "duration": 7,
    "start_time": "2024-10-22T13:32:47.123Z"
   },
   {
    "duration": 1961,
    "start_time": "2024-10-22T13:33:12.398Z"
   },
   {
    "duration": 1390,
    "start_time": "2024-10-22T13:33:14.361Z"
   },
   {
    "duration": 11,
    "start_time": "2024-10-22T13:33:15.753Z"
   },
   {
    "duration": 80,
    "start_time": "2024-10-22T13:33:15.766Z"
   },
   {
    "duration": 11,
    "start_time": "2024-10-22T13:33:15.848Z"
   },
   {
    "duration": 260,
    "start_time": "2024-10-22T13:33:15.861Z"
   },
   {
    "duration": 4,
    "start_time": "2024-10-22T13:33:16.123Z"
   },
   {
    "duration": 38617,
    "start_time": "2024-10-22T13:33:16.128Z"
   },
   {
    "duration": 5,
    "start_time": "2024-10-22T13:33:54.746Z"
   },
   {
    "duration": 88,
    "start_time": "2024-10-22T13:33:54.753Z"
   },
   {
    "duration": 3,
    "start_time": "2024-10-22T13:33:54.842Z"
   },
   {
    "duration": 8,
    "start_time": "2024-10-22T13:33:54.847Z"
   },
   {
    "duration": 4,
    "start_time": "2024-10-22T13:33:54.856Z"
   },
   {
    "duration": 7111,
    "start_time": "2024-10-22T13:33:54.862Z"
   },
   {
    "duration": 5,
    "start_time": "2024-10-22T13:34:01.975Z"
   },
   {
    "duration": 31,
    "start_time": "2024-10-22T13:34:01.982Z"
   },
   {
    "duration": 92,
    "start_time": "2024-10-22T13:34:02.014Z"
   },
   {
    "duration": 105809,
    "start_time": "2024-10-22T13:34:02.107Z"
   },
   {
    "duration": 4,
    "start_time": "2024-10-22T13:35:47.917Z"
   },
   {
    "duration": 4,
    "start_time": "2024-10-22T13:35:47.923Z"
   },
   {
    "duration": 223636,
    "start_time": "2024-10-22T13:35:47.928Z"
   },
   {
    "duration": 3,
    "start_time": "2024-10-22T13:39:31.566Z"
   },
   {
    "duration": 69,
    "start_time": "2024-10-22T13:39:31.571Z"
   },
   {
    "duration": 388781,
    "start_time": "2024-10-22T13:39:31.642Z"
   },
   {
    "duration": 4,
    "start_time": "2024-10-22T13:46:00.425Z"
   },
   {
    "duration": 24,
    "start_time": "2024-10-22T13:46:00.430Z"
   },
   {
    "duration": 42,
    "start_time": "2024-10-22T13:46:00.456Z"
   },
   {
    "duration": 105,
    "start_time": "2024-10-22T13:46:00.499Z"
   },
   {
    "duration": 99,
    "start_time": "2024-10-22T13:47:45.907Z"
   },
   {
    "duration": 6,
    "start_time": "2024-10-22T13:48:05.789Z"
   },
   {
    "duration": 1094,
    "start_time": "2024-10-22T13:48:10.389Z"
   },
   {
    "duration": 1099,
    "start_time": "2024-10-22T13:48:12.998Z"
   },
   {
    "duration": 5,
    "start_time": "2024-10-22T13:48:16.609Z"
   },
   {
    "duration": 14,
    "start_time": "2024-10-22T13:48:59.333Z"
   },
   {
    "duration": 101450,
    "start_time": "2024-10-22T13:49:50.575Z"
   },
   {
    "duration": 4,
    "start_time": "2024-10-22T13:52:04.796Z"
   },
   {
    "duration": 106232,
    "start_time": "2024-10-22T13:52:06.089Z"
   },
   {
    "duration": 13,
    "start_time": "2024-10-22T13:54:05.439Z"
   },
   {
    "duration": 0,
    "start_time": "2024-10-22T13:59:48.833Z"
   },
   {
    "duration": 0,
    "start_time": "2024-10-22T13:59:48.834Z"
   },
   {
    "duration": 4,
    "start_time": "2024-10-22T14:02:59.162Z"
   },
   {
    "duration": 15,
    "start_time": "2024-10-22T14:03:13.162Z"
   },
   {
    "duration": 78,
    "start_time": "2024-10-22T14:11:48.122Z"
   },
   {
    "duration": 6,
    "start_time": "2024-10-22T14:12:07.609Z"
   },
   {
    "duration": 5,
    "start_time": "2024-10-22T14:12:18.098Z"
   },
   {
    "duration": 204244,
    "start_time": "2024-10-22T14:12:27.210Z"
   },
   {
    "duration": 1753,
    "start_time": "2024-10-23T06:25:16.485Z"
   },
   {
    "duration": 3902,
    "start_time": "2024-10-23T06:25:18.240Z"
   },
   {
    "duration": 10,
    "start_time": "2024-10-23T06:25:22.143Z"
   },
   {
    "duration": 36,
    "start_time": "2024-10-23T06:25:22.155Z"
   },
   {
    "duration": 44,
    "start_time": "2024-10-23T06:25:22.193Z"
   },
   {
    "duration": 201,
    "start_time": "2024-10-23T06:25:22.239Z"
   },
   {
    "duration": 4,
    "start_time": "2024-10-23T06:25:22.442Z"
   },
   {
    "duration": 37531,
    "start_time": "2024-10-23T06:25:22.447Z"
   },
   {
    "duration": 5,
    "start_time": "2024-10-23T06:25:59.980Z"
   },
   {
    "duration": 83,
    "start_time": "2024-10-23T06:25:59.986Z"
   },
   {
    "duration": 6,
    "start_time": "2024-10-23T06:26:00.070Z"
   },
   {
    "duration": 80,
    "start_time": "2024-10-23T06:26:00.078Z"
   },
   {
    "duration": 4,
    "start_time": "2024-10-23T06:26:00.160Z"
   },
   {
    "duration": 7210,
    "start_time": "2024-10-23T06:26:00.166Z"
   },
   {
    "duration": 3,
    "start_time": "2024-10-23T06:26:07.377Z"
   },
   {
    "duration": 5,
    "start_time": "2024-10-23T06:26:07.382Z"
   },
   {
    "duration": 4,
    "start_time": "2024-10-23T06:26:28.634Z"
   },
   {
    "duration": 31906,
    "start_time": "2024-10-23T06:26:31.597Z"
   },
   {
    "duration": 3,
    "start_time": "2024-10-23T06:27:16.068Z"
   },
   {
    "duration": 31392,
    "start_time": "2024-10-23T06:27:19.226Z"
   },
   {
    "duration": 3,
    "start_time": "2024-10-23T06:27:52.869Z"
   },
   {
    "duration": 3,
    "start_time": "2024-10-23T06:28:06.680Z"
   },
   {
    "duration": 25656,
    "start_time": "2024-10-23T06:28:08.556Z"
   },
   {
    "duration": 0,
    "start_time": "2024-10-23T06:28:34.214Z"
   },
   {
    "duration": 1554,
    "start_time": "2024-10-23T06:28:51.665Z"
   },
   {
    "duration": 878,
    "start_time": "2024-10-23T06:28:53.221Z"
   },
   {
    "duration": 10,
    "start_time": "2024-10-23T06:28:54.100Z"
   },
   {
    "duration": 58,
    "start_time": "2024-10-23T06:28:54.112Z"
   },
   {
    "duration": 7,
    "start_time": "2024-10-23T06:28:54.172Z"
   },
   {
    "duration": 212,
    "start_time": "2024-10-23T06:28:54.181Z"
   },
   {
    "duration": 4,
    "start_time": "2024-10-23T06:28:54.395Z"
   },
   {
    "duration": 36936,
    "start_time": "2024-10-23T06:28:54.400Z"
   },
   {
    "duration": 5,
    "start_time": "2024-10-23T06:29:31.337Z"
   },
   {
    "duration": 73,
    "start_time": "2024-10-23T06:29:31.344Z"
   },
   {
    "duration": 3,
    "start_time": "2024-10-23T06:29:31.419Z"
   },
   {
    "duration": 16,
    "start_time": "2024-10-23T06:29:31.423Z"
   },
   {
    "duration": 7,
    "start_time": "2024-10-23T06:29:31.441Z"
   },
   {
    "duration": 7267,
    "start_time": "2024-10-23T06:29:31.450Z"
   },
   {
    "duration": 4,
    "start_time": "2024-10-23T06:29:38.719Z"
   },
   {
    "duration": 5,
    "start_time": "2024-10-23T06:29:38.724Z"
   },
   {
    "duration": 6,
    "start_time": "2024-10-23T06:29:38.730Z"
   },
   {
    "duration": 19232,
    "start_time": "2024-10-23T06:29:44.800Z"
   },
   {
    "duration": 48132,
    "start_time": "2024-10-23T06:30:16.172Z"
   },
   {
    "duration": 50,
    "start_time": "2024-10-23T06:32:19.595Z"
   },
   {
    "duration": 1576,
    "start_time": "2024-10-23T06:32:24.837Z"
   },
   {
    "duration": 884,
    "start_time": "2024-10-23T06:32:26.415Z"
   },
   {
    "duration": 10,
    "start_time": "2024-10-23T06:32:27.301Z"
   },
   {
    "duration": 46,
    "start_time": "2024-10-23T06:32:27.312Z"
   },
   {
    "duration": 8,
    "start_time": "2024-10-23T06:32:27.360Z"
   },
   {
    "duration": 205,
    "start_time": "2024-10-23T06:32:27.369Z"
   },
   {
    "duration": 4,
    "start_time": "2024-10-23T06:32:27.576Z"
   },
   {
    "duration": 36375,
    "start_time": "2024-10-23T06:32:27.582Z"
   },
   {
    "duration": 5,
    "start_time": "2024-10-23T06:33:03.958Z"
   },
   {
    "duration": 98,
    "start_time": "2024-10-23T06:33:03.965Z"
   },
   {
    "duration": 4,
    "start_time": "2024-10-23T06:33:04.064Z"
   },
   {
    "duration": 74,
    "start_time": "2024-10-23T06:33:04.069Z"
   },
   {
    "duration": 29,
    "start_time": "2024-10-23T06:33:04.145Z"
   },
   {
    "duration": 6964,
    "start_time": "2024-10-23T06:33:04.177Z"
   },
   {
    "duration": 4,
    "start_time": "2024-10-23T06:33:11.143Z"
   },
   {
    "duration": 13,
    "start_time": "2024-10-23T06:33:11.148Z"
   },
   {
    "duration": 4,
    "start_time": "2024-10-23T06:33:11.163Z"
   },
   {
    "duration": 0,
    "start_time": "2024-10-23T06:34:14.879Z"
   },
   {
    "duration": 103541,
    "start_time": "2024-10-23T06:34:17.866Z"
   },
   {
    "duration": 4,
    "start_time": "2024-10-23T06:36:25.420Z"
   },
   {
    "duration": 4,
    "start_time": "2024-10-23T06:36:48.515Z"
   },
   {
    "duration": 4,
    "start_time": "2024-10-23T06:36:54.411Z"
   },
   {
    "duration": 5,
    "start_time": "2024-10-23T06:37:05.672Z"
   },
   {
    "duration": 5,
    "start_time": "2024-10-23T06:37:10.941Z"
   },
   {
    "duration": 4,
    "start_time": "2024-10-23T06:37:15.806Z"
   },
   {
    "duration": 4,
    "start_time": "2024-10-23T06:37:23.874Z"
   },
   {
    "duration": 5,
    "start_time": "2024-10-23T06:37:29.314Z"
   },
   {
    "duration": 3,
    "start_time": "2024-10-23T06:38:15.432Z"
   },
   {
    "duration": 11,
    "start_time": "2024-10-23T06:38:51.383Z"
   },
   {
    "duration": 8,
    "start_time": "2024-10-23T06:38:59.456Z"
   },
   {
    "duration": 4,
    "start_time": "2024-10-23T06:39:07.170Z"
   },
   {
    "duration": 9,
    "start_time": "2024-10-23T06:39:12.860Z"
   },
   {
    "duration": 51,
    "start_time": "2024-10-23T09:28:32.277Z"
   },
   {
    "duration": 7,
    "start_time": "2024-10-23T10:17:43.581Z"
   },
   {
    "duration": 2062,
    "start_time": "2024-10-23T10:17:56.986Z"
   },
   {
    "duration": 3923,
    "start_time": "2024-10-23T10:17:59.049Z"
   },
   {
    "duration": 10,
    "start_time": "2024-10-23T10:18:02.974Z"
   },
   {
    "duration": 35,
    "start_time": "2024-10-23T10:18:02.986Z"
   },
   {
    "duration": 28,
    "start_time": "2024-10-23T10:18:03.023Z"
   },
   {
    "duration": 201,
    "start_time": "2024-10-23T10:18:03.053Z"
   },
   {
    "duration": 5,
    "start_time": "2024-10-23T10:18:03.256Z"
   },
   {
    "duration": 36071,
    "start_time": "2024-10-23T10:18:03.263Z"
   },
   {
    "duration": 5,
    "start_time": "2024-10-23T10:18:39.336Z"
   },
   {
    "duration": 64,
    "start_time": "2024-10-23T10:18:39.342Z"
   },
   {
    "duration": 3,
    "start_time": "2024-10-23T10:18:39.420Z"
   },
   {
    "duration": 6,
    "start_time": "2024-10-23T10:18:39.425Z"
   },
   {
    "duration": 57,
    "start_time": "2024-10-23T10:18:39.433Z"
   },
   {
    "duration": 7132,
    "start_time": "2024-10-23T10:18:39.493Z"
   },
   {
    "duration": 3,
    "start_time": "2024-10-23T10:18:46.627Z"
   },
   {
    "duration": 28,
    "start_time": "2024-10-23T10:18:46.632Z"
   },
   {
    "duration": 19,
    "start_time": "2024-10-23T10:18:46.661Z"
   },
   {
    "duration": 101843,
    "start_time": "2024-10-23T10:18:46.682Z"
   },
   {
    "duration": 4,
    "start_time": "2024-10-23T10:20:28.526Z"
   },
   {
    "duration": 10,
    "start_time": "2024-10-23T10:20:28.533Z"
   },
   {
    "duration": 210565,
    "start_time": "2024-10-23T10:20:28.544Z"
   },
   {
    "duration": 3,
    "start_time": "2024-10-23T10:23:59.111Z"
   },
   {
    "duration": 44,
    "start_time": "2024-10-23T10:23:59.116Z"
   },
   {
    "duration": 377183,
    "start_time": "2024-10-23T10:23:59.161Z"
   },
   {
    "duration": 4,
    "start_time": "2024-10-23T10:30:16.346Z"
   },
   {
    "duration": 44,
    "start_time": "2024-10-23T10:30:16.351Z"
   },
   {
    "duration": 146,
    "start_time": "2024-10-23T10:30:16.397Z"
   },
   {
    "duration": 46,
    "start_time": "2024-10-23T10:30:16.545Z"
   },
   {
    "duration": 46236,
    "start_time": "2024-10-23T10:30:16.593Z"
   },
   {
    "duration": 93,
    "start_time": "2024-10-23T10:31:02.833Z"
   },
   {
    "duration": 82,
    "start_time": "2024-10-23T10:31:02.929Z"
   },
   {
    "duration": 6,
    "start_time": "2024-10-23T10:35:57.322Z"
   },
   {
    "duration": 77,
    "start_time": "2024-10-23T10:44:51.085Z"
   },
   {
    "duration": 188,
    "start_time": "2024-10-23T12:32:41.501Z"
   },
   {
    "duration": 7,
    "start_time": "2024-10-23T12:35:39.385Z"
   },
   {
    "duration": 887,
    "start_time": "2024-10-23T12:35:39.393Z"
   },
   {
    "duration": 7,
    "start_time": "2024-10-23T12:35:40.282Z"
   },
   {
    "duration": 41,
    "start_time": "2024-10-23T12:35:40.291Z"
   },
   {
    "duration": 20,
    "start_time": "2024-10-23T12:35:40.334Z"
   },
   {
    "duration": 120,
    "start_time": "2024-10-23T12:35:40.355Z"
   },
   {
    "duration": 4,
    "start_time": "2024-10-23T12:35:40.477Z"
   },
   {
    "duration": 35459,
    "start_time": "2024-10-23T12:35:40.483Z"
   },
   {
    "duration": 6,
    "start_time": "2024-10-23T12:36:15.944Z"
   },
   {
    "duration": 83,
    "start_time": "2024-10-23T12:36:15.952Z"
   },
   {
    "duration": 2,
    "start_time": "2024-10-23T12:36:16.037Z"
   },
   {
    "duration": 16,
    "start_time": "2024-10-23T12:36:16.041Z"
   },
   {
    "duration": 21,
    "start_time": "2024-10-23T12:36:16.058Z"
   },
   {
    "duration": 6874,
    "start_time": "2024-10-23T12:36:16.081Z"
   },
   {
    "duration": 3,
    "start_time": "2024-10-23T12:36:22.957Z"
   },
   {
    "duration": 30,
    "start_time": "2024-10-23T12:36:22.961Z"
   },
   {
    "duration": 56,
    "start_time": "2024-10-23T12:36:22.992Z"
   },
   {
    "duration": 102786,
    "start_time": "2024-10-23T12:36:23.049Z"
   },
   {
    "duration": 212078,
    "start_time": "2024-10-23T12:38:05.837Z"
   },
   {
    "duration": 371924,
    "start_time": "2024-10-23T12:41:37.921Z"
   },
   {
    "duration": 4,
    "start_time": "2024-10-23T12:47:49.846Z"
   },
   {
    "duration": 31,
    "start_time": "2024-10-23T12:47:49.852Z"
   },
   {
    "duration": 45445,
    "start_time": "2024-10-23T12:47:49.885Z"
   },
   {
    "duration": 89,
    "start_time": "2024-10-23T12:48:35.332Z"
   },
   {
    "duration": 109,
    "start_time": "2024-10-23T12:48:35.423Z"
   },
   {
    "duration": 197,
    "start_time": "2024-10-23T12:48:35.534Z"
   },
   {
    "duration": 49,
    "start_time": "2024-10-23T12:48:35.733Z"
   },
   {
    "duration": 50,
    "start_time": "2024-10-23T14:45:19.743Z"
   },
   {
    "duration": 57,
    "start_time": "2024-10-24T06:20:01.930Z"
   },
   {
    "duration": 6,
    "start_time": "2024-10-24T06:20:15.988Z"
   },
   {
    "duration": 65,
    "start_time": "2024-10-24T06:40:39.581Z"
   },
   {
    "duration": 1822,
    "start_time": "2024-10-24T11:11:53.549Z"
   },
   {
    "duration": 4,
    "start_time": "2024-10-24T11:12:52.606Z"
   },
   {
    "duration": 130,
    "start_time": "2024-10-24T11:15:57.931Z"
   },
   {
    "duration": 6,
    "start_time": "2024-10-24T11:16:36.188Z"
   },
   {
    "duration": 3667,
    "start_time": "2024-10-24T11:16:36.196Z"
   },
   {
    "duration": 12,
    "start_time": "2024-10-24T11:16:39.865Z"
   },
   {
    "duration": 45,
    "start_time": "2024-10-24T11:16:39.879Z"
   },
   {
    "duration": 11,
    "start_time": "2024-10-24T11:16:39.926Z"
   },
   {
    "duration": 204,
    "start_time": "2024-10-24T11:16:39.938Z"
   },
   {
    "duration": 3,
    "start_time": "2024-10-24T11:16:40.143Z"
   },
   {
    "duration": 17,
    "start_time": "2024-10-24T11:23:01.843Z"
   },
   {
    "duration": 1590,
    "start_time": "2024-10-24T11:23:27.023Z"
   },
   {
    "duration": 928,
    "start_time": "2024-10-24T11:23:28.614Z"
   },
   {
    "duration": 10,
    "start_time": "2024-10-24T11:23:29.544Z"
   },
   {
    "duration": 35,
    "start_time": "2024-10-24T11:23:29.555Z"
   },
   {
    "duration": 22,
    "start_time": "2024-10-24T11:23:29.592Z"
   },
   {
    "duration": 207,
    "start_time": "2024-10-24T11:23:29.615Z"
   },
   {
    "duration": 4,
    "start_time": "2024-10-24T11:23:29.823Z"
   },
   {
    "duration": 130,
    "start_time": "2024-10-24T11:23:32.123Z"
   },
   {
    "duration": 694,
    "start_time": "2024-10-24T11:25:29.738Z"
   },
   {
    "duration": 1326,
    "start_time": "2024-10-24T11:25:34.796Z"
   },
   {
    "duration": 12,
    "start_time": "2024-10-24T11:26:03.496Z"
   },
   {
    "duration": 4,
    "start_time": "2024-10-24T11:26:19.776Z"
   },
   {
    "duration": 4,
    "start_time": "2024-10-24T11:26:23.949Z"
   },
   {
    "duration": 11,
    "start_time": "2024-10-24T11:26:45.956Z"
   },
   {
    "duration": 4,
    "start_time": "2024-10-24T11:27:07.994Z"
   },
   {
    "duration": 53,
    "start_time": "2024-10-24T11:28:28.470Z"
   },
   {
    "duration": 49,
    "start_time": "2024-10-24T11:28:44.374Z"
   },
   {
    "duration": 5,
    "start_time": "2024-10-24T11:29:47.573Z"
   },
   {
    "duration": 11,
    "start_time": "2024-10-24T11:30:03.274Z"
   },
   {
    "duration": 5,
    "start_time": "2024-10-24T11:30:09.173Z"
   },
   {
    "duration": 5,
    "start_time": "2024-10-24T11:30:14.642Z"
   },
   {
    "duration": 8,
    "start_time": "2024-10-24T11:30:19.134Z"
   },
   {
    "duration": 4,
    "start_time": "2024-10-24T11:30:31.443Z"
   },
   {
    "duration": 17,
    "start_time": "2024-10-24T11:30:37.865Z"
   },
   {
    "duration": 5,
    "start_time": "2024-10-24T11:30:46.744Z"
   },
   {
    "duration": 12,
    "start_time": "2024-10-24T11:30:50.452Z"
   },
   {
    "duration": 4,
    "start_time": "2024-10-24T11:32:38.527Z"
   },
   {
    "duration": 5,
    "start_time": "2024-10-24T11:32:40.772Z"
   },
   {
    "duration": 11,
    "start_time": "2024-10-24T11:32:42.083Z"
   },
   {
    "duration": 11,
    "start_time": "2024-10-24T11:34:39.926Z"
   },
   {
    "duration": 17,
    "start_time": "2024-10-24T11:35:32.772Z"
   },
   {
    "duration": 5227,
    "start_time": "2024-10-24T11:36:04.989Z"
   },
   {
    "duration": 2413,
    "start_time": "2024-10-24T11:36:21.944Z"
   },
   {
    "duration": 7,
    "start_time": "2024-10-24T11:37:11.413Z"
   },
   {
    "duration": 4,
    "start_time": "2024-10-24T11:37:38.094Z"
   },
   {
    "duration": 2,
    "start_time": "2024-10-24T11:39:57.562Z"
   },
   {
    "duration": 4,
    "start_time": "2024-10-24T11:40:22.268Z"
   },
   {
    "duration": 390,
    "start_time": "2024-10-24T11:41:21.447Z"
   },
   {
    "duration": 6,
    "start_time": "2024-10-24T11:41:27.967Z"
   },
   {
    "duration": 5,
    "start_time": "2024-10-24T11:41:36.034Z"
   },
   {
    "duration": 5,
    "start_time": "2024-10-24T11:41:44.162Z"
   },
   {
    "duration": 17,
    "start_time": "2024-10-24T11:41:50.248Z"
   },
   {
    "duration": 5,
    "start_time": "2024-10-24T11:41:52.278Z"
   },
   {
    "duration": 8,
    "start_time": "2024-10-24T11:42:23.106Z"
   },
   {
    "duration": 7,
    "start_time": "2024-10-24T11:42:25.467Z"
   },
   {
    "duration": 10,
    "start_time": "2024-10-24T11:46:38.268Z"
   },
   {
    "duration": 8,
    "start_time": "2024-10-24T11:46:43.668Z"
   },
   {
    "duration": 1034,
    "start_time": "2024-10-24T11:46:43.677Z"
   },
   {
    "duration": 13,
    "start_time": "2024-10-24T11:46:44.713Z"
   },
   {
    "duration": 41,
    "start_time": "2024-10-24T11:46:44.728Z"
   },
   {
    "duration": 23,
    "start_time": "2024-10-24T11:46:44.771Z"
   },
   {
    "duration": 140,
    "start_time": "2024-10-24T11:46:44.796Z"
   },
   {
    "duration": 4,
    "start_time": "2024-10-24T11:46:44.938Z"
   },
   {
    "duration": 24,
    "start_time": "2024-10-24T11:46:44.943Z"
   },
   {
    "duration": 2293,
    "start_time": "2024-10-24T19:03:57.257Z"
   },
   {
    "duration": 0,
    "start_time": "2024-10-24T19:03:59.552Z"
   },
   {
    "duration": 0,
    "start_time": "2024-10-24T19:03:59.553Z"
   },
   {
    "duration": 0,
    "start_time": "2024-10-24T19:03:59.554Z"
   },
   {
    "duration": 0,
    "start_time": "2024-10-24T19:03:59.555Z"
   },
   {
    "duration": 0,
    "start_time": "2024-10-24T19:03:59.556Z"
   },
   {
    "duration": 0,
    "start_time": "2024-10-24T19:03:59.557Z"
   },
   {
    "duration": 0,
    "start_time": "2024-10-24T19:03:59.558Z"
   },
   {
    "duration": 0,
    "start_time": "2024-10-24T19:03:59.559Z"
   },
   {
    "duration": 16,
    "start_time": "2024-10-24T19:04:28.979Z"
   },
   {
    "duration": 128,
    "start_time": "2024-10-24T19:06:52.773Z"
   },
   {
    "duration": 5205,
    "start_time": "2024-10-24T19:06:56.530Z"
   },
   {
    "duration": 2601,
    "start_time": "2024-10-24T19:07:13.693Z"
   },
   {
    "duration": 1099,
    "start_time": "2024-10-24T19:07:16.296Z"
   },
   {
    "duration": 13,
    "start_time": "2024-10-24T19:07:17.396Z"
   },
   {
    "duration": 32,
    "start_time": "2024-10-24T19:07:17.411Z"
   },
   {
    "duration": 8,
    "start_time": "2024-10-24T19:07:17.445Z"
   },
   {
    "duration": 144,
    "start_time": "2024-10-24T19:07:17.454Z"
   },
   {
    "duration": 3,
    "start_time": "2024-10-24T19:07:17.600Z"
   },
   {
    "duration": 10,
    "start_time": "2024-10-24T19:07:17.604Z"
   },
   {
    "duration": 1471021,
    "start_time": "2024-10-24T19:07:17.615Z"
   },
   {
    "duration": 0,
    "start_time": "2024-10-24T19:31:48.638Z"
   },
   {
    "duration": 0,
    "start_time": "2024-10-24T19:31:48.640Z"
   },
   {
    "duration": 0,
    "start_time": "2024-10-24T19:31:48.641Z"
   },
   {
    "duration": 4308,
    "start_time": "2024-10-24T19:36:19.784Z"
   },
   {
    "duration": 818,
    "start_time": "2024-10-24T19:36:24.094Z"
   },
   {
    "duration": 9,
    "start_time": "2024-10-24T19:36:24.914Z"
   },
   {
    "duration": 21,
    "start_time": "2024-10-24T19:36:24.925Z"
   },
   {
    "duration": 7,
    "start_time": "2024-10-24T19:36:24.947Z"
   },
   {
    "duration": 132,
    "start_time": "2024-10-24T19:36:24.955Z"
   },
   {
    "duration": 2,
    "start_time": "2024-10-24T19:36:25.089Z"
   },
   {
    "duration": 19,
    "start_time": "2024-10-24T19:36:25.092Z"
   },
   {
    "duration": 1492246,
    "start_time": "2024-10-24T19:36:25.113Z"
   },
   {
    "duration": 0,
    "start_time": "2024-10-24T20:01:17.362Z"
   },
   {
    "duration": 0,
    "start_time": "2024-10-24T20:01:17.363Z"
   },
   {
    "duration": 0,
    "start_time": "2024-10-24T20:01:17.364Z"
   },
   {
    "duration": 0,
    "start_time": "2024-10-24T20:01:17.365Z"
   },
   {
    "duration": 0,
    "start_time": "2024-10-24T20:01:17.366Z"
   },
   {
    "duration": 0,
    "start_time": "2024-10-24T20:01:17.367Z"
   },
   {
    "duration": 0,
    "start_time": "2024-10-24T20:01:17.368Z"
   },
   {
    "duration": 0,
    "start_time": "2024-10-24T20:01:17.369Z"
   },
   {
    "duration": 0,
    "start_time": "2024-10-24T20:01:17.370Z"
   },
   {
    "duration": 0,
    "start_time": "2024-10-24T20:01:17.370Z"
   },
   {
    "duration": 0,
    "start_time": "2024-10-24T20:01:17.371Z"
   },
   {
    "duration": 0,
    "start_time": "2024-10-24T20:01:17.372Z"
   },
   {
    "duration": 0,
    "start_time": "2024-10-24T20:01:17.373Z"
   },
   {
    "duration": 0,
    "start_time": "2024-10-24T20:01:17.374Z"
   },
   {
    "duration": 0,
    "start_time": "2024-10-24T20:01:17.375Z"
   },
   {
    "duration": 0,
    "start_time": "2024-10-24T20:01:17.376Z"
   },
   {
    "duration": 0,
    "start_time": "2024-10-24T20:01:17.377Z"
   },
   {
    "duration": 0,
    "start_time": "2024-10-24T20:01:17.378Z"
   },
   {
    "duration": 0,
    "start_time": "2024-10-24T20:01:17.379Z"
   },
   {
    "duration": 2544,
    "start_time": "2024-10-24T20:03:51.035Z"
   },
   {
    "duration": 21,
    "start_time": "2024-10-24T20:04:08.954Z"
   },
   {
    "duration": 10,
    "start_time": "2024-10-24T20:05:16.897Z"
   },
   {
    "duration": 1088185,
    "start_time": "2024-10-24T20:23:47.567Z"
   },
   {
    "duration": 4,
    "start_time": "2024-10-24T20:41:55.754Z"
   },
   {
    "duration": 53,
    "start_time": "2024-10-24T20:41:55.760Z"
   },
   {
    "duration": 3,
    "start_time": "2024-10-24T20:41:55.814Z"
   },
   {
    "duration": 6,
    "start_time": "2024-10-24T20:41:55.818Z"
   },
   {
    "duration": 4,
    "start_time": "2024-10-24T20:41:55.825Z"
   },
   {
    "duration": 5686,
    "start_time": "2024-10-24T20:41:55.830Z"
   },
   {
    "duration": 3,
    "start_time": "2024-10-24T20:42:01.518Z"
   },
   {
    "duration": 44,
    "start_time": "2024-10-24T20:42:01.523Z"
   },
   {
    "duration": 29,
    "start_time": "2024-10-24T20:42:01.568Z"
   },
   {
    "duration": 22,
    "start_time": "2024-10-24T20:42:01.598Z"
   },
   {
    "duration": 0,
    "start_time": "2024-10-24T20:42:01.621Z"
   },
   {
    "duration": 0,
    "start_time": "2024-10-24T20:42:01.623Z"
   },
   {
    "duration": 0,
    "start_time": "2024-10-24T20:42:01.623Z"
   },
   {
    "duration": 0,
    "start_time": "2024-10-24T20:42:01.624Z"
   },
   {
    "duration": 0,
    "start_time": "2024-10-24T20:42:01.625Z"
   },
   {
    "duration": 0,
    "start_time": "2024-10-24T20:42:01.626Z"
   },
   {
    "duration": 0,
    "start_time": "2024-10-24T20:42:01.626Z"
   },
   {
    "duration": 0,
    "start_time": "2024-10-24T20:42:01.627Z"
   },
   {
    "duration": 0,
    "start_time": "2024-10-24T20:42:01.628Z"
   },
   {
    "duration": 8315,
    "start_time": "2024-10-25T16:00:01.390Z"
   },
   {
    "duration": 3872,
    "start_time": "2024-10-25T16:00:09.708Z"
   },
   {
    "duration": 10,
    "start_time": "2024-10-25T16:00:13.582Z"
   },
   {
    "duration": 47,
    "start_time": "2024-10-25T16:00:13.593Z"
   },
   {
    "duration": 9,
    "start_time": "2024-10-25T16:00:13.642Z"
   },
   {
    "duration": 148,
    "start_time": "2024-10-25T16:00:13.652Z"
   },
   {
    "duration": 4,
    "start_time": "2024-10-25T16:00:13.802Z"
   },
   {
    "duration": 134,
    "start_time": "2024-10-25T16:00:13.807Z"
   },
   {
    "duration": 1209669,
    "start_time": "2024-10-25T16:00:13.943Z"
   },
   {
    "duration": 8,
    "start_time": "2024-10-25T16:20:23.614Z"
   },
   {
    "duration": 91,
    "start_time": "2024-10-25T16:20:23.624Z"
   },
   {
    "duration": 4,
    "start_time": "2024-10-25T16:20:23.717Z"
   },
   {
    "duration": 11,
    "start_time": "2024-10-25T16:20:23.722Z"
   },
   {
    "duration": 26,
    "start_time": "2024-10-25T16:20:23.736Z"
   },
   {
    "duration": 6809,
    "start_time": "2024-10-25T16:20:23.763Z"
   },
   {
    "duration": 3,
    "start_time": "2024-10-25T16:20:30.574Z"
   },
   {
    "duration": 50,
    "start_time": "2024-10-25T16:20:30.579Z"
   },
   {
    "duration": 41,
    "start_time": "2024-10-25T16:20:30.630Z"
   },
   {
    "duration": 113655,
    "start_time": "2024-10-25T16:20:30.672Z"
   },
   {
    "duration": 198639,
    "start_time": "2024-10-25T16:22:24.329Z"
   },
   {
    "duration": 381634,
    "start_time": "2024-10-25T16:25:42.970Z"
   },
   {
    "duration": 4,
    "start_time": "2024-10-25T16:32:04.605Z"
   },
   {
    "duration": 39,
    "start_time": "2024-10-25T16:32:04.621Z"
   },
   {
    "duration": 50167,
    "start_time": "2024-10-25T16:32:04.662Z"
   },
   {
    "duration": 93,
    "start_time": "2024-10-25T16:32:54.830Z"
   },
   {
    "duration": 26,
    "start_time": "2024-10-25T16:32:54.924Z"
   },
   {
    "duration": 248,
    "start_time": "2024-10-25T16:32:54.952Z"
   },
   {
    "duration": 57,
    "start_time": "2024-10-25T16:32:55.202Z"
   },
   {
    "duration": 4,
    "start_time": "2024-10-25T16:40:34.191Z"
   },
   {
    "duration": 17,
    "start_time": "2024-10-25T16:40:51.841Z"
   },
   {
    "duration": 4,
    "start_time": "2024-10-25T16:40:53.275Z"
   },
   {
    "duration": 1704,
    "start_time": "2024-10-25T16:51:34.953Z"
   },
   {
    "duration": 1506,
    "start_time": "2024-10-25T16:52:26.121Z"
   },
   {
    "duration": 1688,
    "start_time": "2024-10-25T16:52:34.432Z"
   },
   {
    "duration": 7967,
    "start_time": "2024-10-26T08:34:27.147Z"
   },
   {
    "duration": 13,
    "start_time": "2024-10-26T08:34:41.073Z"
   },
   {
    "duration": 3840,
    "start_time": "2024-10-26T08:34:44.485Z"
   },
   {
    "duration": 12,
    "start_time": "2024-10-26T08:34:50.103Z"
   },
   {
    "duration": 1037,
    "start_time": "2024-10-26T08:35:01.622Z"
   },
   {
    "duration": 7,
    "start_time": "2024-10-26T08:57:25.191Z"
   },
   {
    "duration": 8,
    "start_time": "2024-10-26T08:59:37.165Z"
   },
   {
    "duration": 1000,
    "start_time": "2024-10-26T08:59:37.175Z"
   },
   {
    "duration": 8,
    "start_time": "2024-10-26T08:59:38.176Z"
   },
   {
    "duration": 35,
    "start_time": "2024-10-26T08:59:38.185Z"
   },
   {
    "duration": 31,
    "start_time": "2024-10-26T08:59:38.222Z"
   },
   {
    "duration": 162,
    "start_time": "2024-10-26T08:59:38.255Z"
   },
   {
    "duration": 3,
    "start_time": "2024-10-26T08:59:38.419Z"
   },
   {
    "duration": 6,
    "start_time": "2024-10-26T08:59:38.423Z"
   },
   {
    "duration": 1258405,
    "start_time": "2024-10-26T08:59:38.431Z"
   },
   {
    "duration": 13,
    "start_time": "2024-10-26T09:20:36.838Z"
   },
   {
    "duration": 72,
    "start_time": "2024-10-26T09:20:36.853Z"
   },
   {
    "duration": 3,
    "start_time": "2024-10-26T09:20:36.927Z"
   },
   {
    "duration": 35,
    "start_time": "2024-10-26T09:20:36.932Z"
   },
   {
    "duration": 2,
    "start_time": "2024-10-26T09:20:36.971Z"
   },
   {
    "duration": 7229,
    "start_time": "2024-10-26T09:20:36.975Z"
   },
   {
    "duration": 4,
    "start_time": "2024-10-26T09:20:44.206Z"
   },
   {
    "duration": 6,
    "start_time": "2024-10-26T09:20:44.211Z"
   },
   {
    "duration": 15,
    "start_time": "2024-10-26T09:20:44.219Z"
   },
   {
    "duration": 107827,
    "start_time": "2024-10-26T09:20:44.236Z"
   },
   {
    "duration": 215743,
    "start_time": "2024-10-26T09:22:32.064Z"
   },
   {
    "duration": 395315,
    "start_time": "2024-10-26T09:26:07.809Z"
   },
   {
    "duration": 4,
    "start_time": "2024-10-26T09:32:43.126Z"
   },
   {
    "duration": 11,
    "start_time": "2024-10-26T09:32:43.132Z"
   },
   {
    "duration": 44709,
    "start_time": "2024-10-26T09:32:43.144Z"
   },
   {
    "duration": 5,
    "start_time": "2024-10-26T09:33:27.855Z"
   },
   {
    "duration": 106,
    "start_time": "2024-10-26T09:33:27.861Z"
   },
   {
    "duration": 0,
    "start_time": "2024-10-26T09:33:27.968Z"
   },
   {
    "duration": 0,
    "start_time": "2024-10-26T09:33:27.969Z"
   },
   {
    "duration": 0,
    "start_time": "2024-10-26T09:33:27.970Z"
   },
   {
    "duration": 0,
    "start_time": "2024-10-26T09:33:27.971Z"
   },
   {
    "duration": 0,
    "start_time": "2024-10-26T09:33:27.972Z"
   },
   {
    "duration": 0,
    "start_time": "2024-10-26T09:33:27.973Z"
   },
   {
    "duration": 0,
    "start_time": "2024-10-26T09:33:27.974Z"
   },
   {
    "duration": 10,
    "start_time": "2024-10-26T09:34:57.142Z"
   },
   {
    "duration": 4,
    "start_time": "2024-10-26T09:35:01.309Z"
   },
   {
    "duration": 11,
    "start_time": "2024-10-26T09:35:02.376Z"
   },
   {
    "duration": 3,
    "start_time": "2024-10-26T09:35:10.290Z"
   },
   {
    "duration": 771031,
    "start_time": "2024-10-26T09:35:13.276Z"
   },
   {
    "duration": 0,
    "start_time": "2024-10-26T09:48:04.309Z"
   },
   {
    "duration": 0,
    "start_time": "2024-10-26T09:48:04.310Z"
   },
   {
    "duration": 0,
    "start_time": "2024-10-26T09:48:04.311Z"
   },
   {
    "duration": 0,
    "start_time": "2024-10-26T09:48:04.312Z"
   },
   {
    "duration": 3,
    "start_time": "2024-10-26T09:48:08.196Z"
   },
   {
    "duration": 1196344,
    "start_time": "2024-10-26T09:48:13.038Z"
   },
   {
    "duration": 3,
    "start_time": "2024-10-26T10:08:09.384Z"
   },
   {
    "duration": 66,
    "start_time": "2024-10-26T10:08:09.389Z"
   },
   {
    "duration": 19,
    "start_time": "2024-10-26T10:08:09.458Z"
   },
   {
    "duration": 3,
    "start_time": "2024-10-26T10:08:09.479Z"
   },
   {
    "duration": 202,
    "start_time": "2024-10-26T10:15:45.511Z"
   },
   {
    "duration": 57,
    "start_time": "2024-10-26T10:16:00.730Z"
   },
   {
    "duration": 57,
    "start_time": "2024-10-26T10:16:06.775Z"
   },
   {
    "duration": 11,
    "start_time": "2024-10-26T10:16:09.536Z"
   },
   {
    "duration": 10,
    "start_time": "2024-10-26T10:16:16.568Z"
   },
   {
    "duration": 10,
    "start_time": "2024-10-26T10:16:18.146Z"
   },
   {
    "duration": 4,
    "start_time": "2024-10-26T10:33:25.876Z"
   },
   {
    "duration": 3,
    "start_time": "2024-10-26T10:34:17.033Z"
   },
   {
    "duration": 3,
    "start_time": "2024-10-26T10:34:19.072Z"
   },
   {
    "duration": 257085,
    "start_time": "2024-10-26T10:34:25.567Z"
   },
   {
    "duration": 3,
    "start_time": "2024-10-26T11:01:04.549Z"
   },
   {
    "duration": 4,
    "start_time": "2024-10-26T11:01:05.409Z"
   },
   {
    "duration": 7,
    "start_time": "2024-10-26T11:01:07.530Z"
   },
   {
    "duration": 15,
    "start_time": "2024-10-26T11:01:08.264Z"
   },
   {
    "duration": 4,
    "start_time": "2024-10-26T11:01:09.863Z"
   },
   {
    "duration": 14,
    "start_time": "2024-10-26T11:01:40.464Z"
   },
   {
    "duration": 180,
    "start_time": "2024-10-26T11:02:10.637Z"
   },
   {
    "duration": 3,
    "start_time": "2024-10-26T11:02:17.758Z"
   },
   {
    "duration": 4,
    "start_time": "2024-10-26T11:02:18.859Z"
   },
   {
    "duration": 7,
    "start_time": "2024-10-26T11:02:19.882Z"
   },
   {
    "duration": 15,
    "start_time": "2024-10-26T11:02:20.875Z"
   },
   {
    "duration": 3,
    "start_time": "2024-10-26T11:02:22.344Z"
   },
   {
    "duration": 202,
    "start_time": "2024-10-26T11:02:24.643Z"
   },
   {
    "duration": 55,
    "start_time": "2024-10-26T11:02:27.373Z"
   },
   {
    "duration": 4,
    "start_time": "2024-10-26T11:16:41.051Z"
   },
   {
    "duration": 4,
    "start_time": "2024-10-26T11:21:09.970Z"
   },
   {
    "duration": 3,
    "start_time": "2024-10-26T11:21:38.097Z"
   },
   {
    "duration": 4,
    "start_time": "2024-10-26T11:21:57.510Z"
   },
   {
    "duration": 5,
    "start_time": "2024-10-26T11:22:05.872Z"
   },
   {
    "duration": 3,
    "start_time": "2024-10-26T11:23:09.273Z"
   },
   {
    "duration": 15,
    "start_time": "2024-10-26T11:23:17.533Z"
   },
   {
    "duration": 4,
    "start_time": "2024-10-26T11:23:19.837Z"
   },
   {
    "duration": 4,
    "start_time": "2024-10-26T11:23:25.453Z"
   },
   {
    "duration": 13,
    "start_time": "2024-10-26T11:24:00.693Z"
   },
   {
    "duration": 11,
    "start_time": "2024-10-26T11:24:06.732Z"
   },
   {
    "duration": 7,
    "start_time": "2024-10-26T11:25:06.128Z"
   },
   {
    "duration": 7,
    "start_time": "2024-10-26T11:25:24.726Z"
   },
   {
    "duration": 7,
    "start_time": "2024-10-26T11:25:45.488Z"
   },
   {
    "duration": 6,
    "start_time": "2024-10-26T11:26:17.938Z"
   },
   {
    "duration": 204,
    "start_time": "2024-10-26T11:28:18.581Z"
   },
   {
    "duration": 58,
    "start_time": "2024-10-26T11:29:06.284Z"
   },
   {
    "duration": 55,
    "start_time": "2024-10-26T11:29:16.575Z"
   }
  ],
  "kernelspec": {
   "display_name": "Python 3",
   "language": "python",
   "name": "python3"
  },
  "language_info": {
   "codemirror_mode": {
    "name": "ipython",
    "version": 3
   },
   "file_extension": ".py",
   "mimetype": "text/x-python",
   "name": "python",
   "nbconvert_exporter": "python",
   "pygments_lexer": "ipython3",
   "version": "3.13.5"
  },
  "toc": {
   "base_numbering": 1,
   "nav_menu": {},
   "number_sections": true,
   "sideBar": true,
   "skip_h1_title": true,
   "title_cell": "Содержание",
   "title_sidebar": "Contents",
   "toc_cell": true,
   "toc_position": {
    "height": "calc(100% - 180px)",
    "left": "10px",
    "top": "150px",
    "width": "165px"
   },
   "toc_section_display": true,
   "toc_window_display": true
  }
 },
 "nbformat": 4,
 "nbformat_minor": 2
}
